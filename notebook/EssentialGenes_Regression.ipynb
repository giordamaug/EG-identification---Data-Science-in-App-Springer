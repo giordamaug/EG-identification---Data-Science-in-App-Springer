{
  "cells": [
    {
      "cell_type": "markdown",
      "metadata": {
        "id": "aufb4M-rwRHo"
      },
      "source": [
        "[![Google Colab](https://colab.research.google.com/assets/colab-badge.svg)](https://colab.research.google.com/github/giordamaug/EG-identification---Data-Science-in-App-Springer/blob/main/notebook/EssentialGenes_Regression.ipynb)\n",
        "[![Binder](https://mybinder.org/badge_logo.svg)](https://mybinder.org/v2/gh/giordamaug/EG-identification---Data-Science-in-App-Springer/main?filepath=notebook%2FEssentialGenes_Regression.ipynb)"
      ]
    },
    {
      "cell_type": "markdown",
      "metadata": {
        "id": "MNgwF_IjTjNq"
      },
      "source": [
        "# Loading required libraries"
      ]
    },
    {
      "cell_type": "code",
      "execution_count": 30,
      "metadata": {},
      "outputs": [],
      "source": [
        "import sys\n",
        "IN_COLAB = 'google.colab' in sys.modules\n",
        "if IN_COLAB:\n",
        "    !pip install -q karateclub\n",
        "    !pip install -q pandas\n",
        "    !pip install -q sklearn\n",
        "    !pip install -q imblearn\n",
        "    !pip install -q xgboost\n",
        "    !pip install -q tqdm"
      ]
    },
    {
      "cell_type": "code",
      "execution_count": 2,
      "metadata": {
        "id": "ddc1yRocTjNr"
      },
      "outputs": [],
      "source": [
        "import warnings\n",
        "warnings.filterwarnings('ignore')\n",
        "import random\n",
        "import numpy as np\n",
        "import pandas as pd\n",
        "def set_seed(seed=1):\n",
        "    random.seed(seed)\n",
        "    np.random.seed(seed)"
      ]
    },
    {
      "cell_type": "markdown",
      "metadata": {
        "id": "jwXYNEIFff-l"
      },
      "source": [
        "# Download dataset from Github"
      ]
    },
    {
      "cell_type": "code",
      "execution_count": 3,
      "metadata": {
        "colab": {
          "base_uri": "https://localhost:8080/"
        },
        "id": "ykT1KO_4eqvK",
        "outputId": "f8fe3e55-a9aa-46b8-d5b6-5e2344edbc25"
      },
      "outputs": [
        {
          "name": "stdout",
          "output_type": "stream",
          "text": [
            "zsh:1: command not found: wget\n",
            "zsh:1: command not found: wget\n",
            "zsh:1: command not found: wget\n",
            "zsh:1: command not found: wget\n",
            "zsh:1: command not found: wget\n",
            "zsh:1: command not found: wget\n",
            "zsh:1: command not found: wget\n"
          ]
        }
      ],
      "source": [
        "!wget https://raw.githubusercontent.com/giordamaug/EG-identification---Data-Science-in-App-Springer/main/data/ppi.csv\n",
        "!wget https://raw.githubusercontent.com/giordamaug/EG-identification---Data-Science-in-App-Springer/main/data/labels.csv\n",
        "!wget https://raw.githubusercontent.com/giordamaug/EG-identification---Data-Science-in-App-Springer/main/data/bio_attributes.csv\n",
        "!wget https://raw.githubusercontent.com/giordamaug/EG-identification---Data-Science-in-App-Springer/main/data/net_attributes.csv\n",
        "!wget https://raw.githubusercontent.com/giordamaug/EG-identification---Data-Science-in-App-Springer/main/data/gtex_attributes.csv\n",
        "!wget https://raw.githubusercontent.com/giordamaug/EG-identification---Data-Science-in-App-Springer/main/data/ppi+met.csv\n",
        "!wget https://raw.githubusercontent.com/giordamaug/EG-identification---Data-Science-in-App-Springer/main/data/scores.csv"
      ]
    },
    {
      "cell_type": "markdown",
      "metadata": {
        "id": "TqYLkDA1yW-K"
      },
      "source": [
        "# Load the label\n",
        "Only a subset of genes are selected for classification:\n",
        "+ genes belonging to CS0 group, that are labeled as Essential (E);\n",
        "+ genes belonging to CS6, CS7, ..., CS9 groups, that are labeled as Not-Essential (NE).\n",
        "\n",
        "All remaining genes belong to intermediate groups (CS1-CS5) and are considered undetermined (label ND) "
      ]
    },
    {
      "cell_type": "code",
      "execution_count": 4,
      "metadata": {
        "colab": {
          "base_uri": "https://localhost:8080/"
        },
        "id": "ahZH3I5SyW-K",
        "outputId": "af032f75-f8dd-42a6-f73d-cedfed24eb19"
      },
      "outputs": [
        {
          "name": "stdout",
          "output_type": "stream",
          "text": [
            "Selected 11696 genes\n"
          ]
        }
      ],
      "source": [
        "datapath='.'\n",
        "scores = pd.read_csv(f\"{datapath}/scores.csv\", index_col='name')\n",
        "genes = scores.index.values                                             # get genes with defined labels (E or NE)\n",
        "scores = scores.reset_index()                                           # reindex genes by consecutive integers\n",
        "scores['index'] = scores.index\n",
        "gene2idx_mapping = { v[1] : v[0]  for v in scores[['index', 'name']].values }           # create mapping index by gene name\n",
        "idx2gene_mapping = { v[0] : v[1]  for v in scores[['index', 'name']].values }           # create mapping index by gene name\n",
        "y = scores.drop(columns=['name','index'])\n",
        "print(f'Selected {len(genes)} genes')"
      ]
    },
    {
      "cell_type": "markdown",
      "metadata": {
        "id": "Vmbko7ys1m-d"
      },
      "source": [
        "# Load attributes to be used\n",
        "We identified three sets of attributes:\n",
        "1. bio attributes, related to gene information (such as, expression, etc.)\n",
        "2. net attributes, derived from role of gene/node in the network (such as, degree, centrality, etc.)\n",
        "3. GTEX-* attribute, additional biological information of genes \n",
        "Based on user selection, the node attributes are appended in a single matrix of attributes (`x`)\n",
        "\n",
        "In the attribute matrix `x` there can be NaN or Infinite values. They are corrected as it follow:\n",
        "+ NaN is replaced by the mean in the attribute range, \n",
        "+ Infinte value is replaced by the maximum in the range.\n",
        "\n",
        "After Nan and Infinite values fixing, the attributes are normalized with Z-score or MinMax normalization functions.\n",
        "\n",
        "At the end, only nodes (genes) with E or NE labels are selected for the classification"
      ]
    },
    {
      "cell_type": "code",
      "execution_count": 5,
      "metadata": {
        "colab": {
          "base_uri": "https://localhost:8080/",
          "height": 491
        },
        "id": "e1eTV5Ky2R9_",
        "outputId": "56a0d941-e25f-4066-850a-9bfa3f7eaf86"
      },
      "outputs": [
        {
          "name": "stdout",
          "output_type": "stream",
          "text": [
            "Found 15705 NaN values and 0 Infinite values\n",
            "X attributes normalization (zscore)...\n",
            "New attribute matrix x(11696, 105)\n"
          ]
        }
      ],
      "source": [
        "#@title Choose attributes { form-width: \"20%\" }\n",
        "normalize_node = \"zscore\" #@param [\"\", \"zscore\", \"minmax\"]\n",
        "bio = True #@param {type:\"boolean\"}\n",
        "gtex = True #@param {type:\"boolean\"}\n",
        "net = False #@param {type:\"boolean\"}\n",
        "variable_name = \"bio\"\n",
        "bio_df = pd.read_csv(f\"{datapath}/bio_attributes.csv\", index_col='name') if bio else pd.DataFrame()\n",
        "gtex_df = pd.read_csv(f\"{datapath}/gtex_attributes.csv\", index_col='name') if gtex else pd.DataFrame()\n",
        "net_df = pd.read_csv(f\"{datapath}/net_attributes.csv\", index_col='name') if net else pd.DataFrame()\n",
        "x = pd.concat([bio_df, gtex_df, net_df], axis=1)\n",
        "print(f'Found {x.isnull().sum().sum()} NaN values and {np.isinf(x).values.sum()} Infinite values')\n",
        "for col in x.columns[x.isna().any()].tolist():\n",
        "  mean_value=x[col].mean()          # Replace NaNs in column with the mean of values in the same column\n",
        "  if mean_value is not np.nan:\n",
        "    x[col].fillna(value=mean_value, inplace=True)\n",
        "  else:                             # otherwise, if the mean is NaN, remove the column\n",
        "    x = x.drop(col, 1)\n",
        "if normalize_node == 'minmax':\n",
        "  print(\"X attributes normalization (minmax)...\")\n",
        "  x = (x-x.min())/(x.max()-x.min())\n",
        "elif normalize_node == 'zscore':\n",
        "  print(\"X attributes normalization (zscore)...\")\n",
        "  x = (x-x.mean())/x.std()\n",
        "x = x.loc[genes]\n",
        "x[\"index\"] = x.index\n",
        "x = x.replace({\"index\": gene2idx_mapping})\n",
        "x = x.set_index('index')\n",
        "print(f'New attribute matrix x{x.shape}')\n"
      ]
    },
    {
      "cell_type": "markdown",
      "metadata": {
        "id": "KGZqjWBcmNM6"
      },
      "source": [
        "# Load the PPI+MET network\n",
        "The PPI networks is loaded from a CSV file, where\n",
        "*   `A` is the column name for edge source (gene name)\n",
        "*   `B` is the column name for edge target (gene name)\n",
        "*   `weight` is the column name for edge weight\n",
        "Only some method use the PPI netoworks, as an example all GCN methods, and Node2Vec."
      ]
    },
    {
      "cell_type": "code",
      "execution_count": 6,
      "metadata": {
        "id": "ku9EUnJfmMF4"
      },
      "outputs": [],
      "source": [
        "import networkx as nx\n",
        "ppi = pd.read_csv(f'{datapath}/ppi+met.csv')                               # read PPI+MET network from CSV file\n",
        "ppi = ppi.loc[((ppi['A'].isin(genes)) & (ppi['B'].isin(genes)))]           # reduce network only to selected nodes/genes\n",
        "ppi = ppi.replace({\"A\": gene2idx_mapping, \"B\": gene2idx_mapping})          # replace gene name in ppi"
      ]
    },
    {
      "cell_type": "code",
      "execution_count": 7,
      "metadata": {},
      "outputs": [
        {
          "name": "stdout",
          "output_type": "stream",
          "text": [
            "Graph with 11696 nodes and 107513 edges\n",
            "There are 8006 isolated genes\n"
          ]
        }
      ],
      "source": [
        "edge_list = [list(v) for v in list(ppi[['A','B', 'weight']].values)]      # get the edge list (with weights)\n",
        "G = nx.Graph()\n",
        "G.add_nodes_from(range(len(genes)))                                       # add all nodes (genes, also isolated ones)\n",
        "G.add_weighted_edges_from(edge_list)                                      # add all edges\n",
        "print(nx.info(G))\n",
        "print(f\"There are {len(list(nx.isolates(G)))} isolated genes\")"
      ]
    },
    {
      "cell_type": "markdown",
      "metadata": {},
      "source": [
        "## Node2vec embedding"
      ]
    },
    {
      "cell_type": "code",
      "execution_count": 8,
      "metadata": {},
      "outputs": [],
      "source": [
        "import karateclub as kc\n",
        "method = 'Node2Vec'\n",
        "params = {\"walk_number\": 10, \n",
        "          \"walk_length\": 80, \n",
        "          \"p\": 1.0, \n",
        "          \"q\": 1.0, \n",
        "          \"dimensions\": 128, \n",
        "          \"workers\": 4, \n",
        "          \"window_size\": 5, \n",
        "          \"epochs\": 1, \n",
        "          \"learning_rate\": 0.05, \n",
        "          \"min_count\": 1, \n",
        "          \"seed\": 42}\n",
        "n2v = kc.Node2Vec(**params)    # choose here your embedding method\n",
        "n2v.fit(G)\n",
        "embedding = n2v.get_embedding()"
      ]
    },
    {
      "cell_type": "markdown",
      "metadata": {},
      "source": [
        "## Convert embedding to dataframe and append it to attributes"
      ]
    },
    {
      "cell_type": "code",
      "execution_count": 13,
      "metadata": {},
      "outputs": [
        {
          "data": {
            "text/html": [
              "<div>\n",
              "<style scoped>\n",
              "    .dataframe tbody tr th:only-of-type {\n",
              "        vertical-align: middle;\n",
              "    }\n",
              "\n",
              "    .dataframe tbody tr th {\n",
              "        vertical-align: top;\n",
              "    }\n",
              "\n",
              "    .dataframe thead th {\n",
              "        text-align: right;\n",
              "    }\n",
              "</style>\n",
              "<table border=\"1\" class=\"dataframe\">\n",
              "  <thead>\n",
              "    <tr style=\"text-align: right;\">\n",
              "      <th></th>\n",
              "      <th>XGB_1</th>\n",
              "      <th>XGB_2</th>\n",
              "      <th>XGB_3</th>\n",
              "      <th>XGB_4</th>\n",
              "      <th>XGB_5</th>\n",
              "      <th>XGB_6</th>\n",
              "      <th>XGB_7</th>\n",
              "      <th>XGB_8</th>\n",
              "      <th>XGB_9</th>\n",
              "      <th>XGB_10</th>\n",
              "      <th>...</th>\n",
              "      <th>GTEX-1497J-0826-SM-5NQAJ</th>\n",
              "      <th>GTEX-1A3MW-2226-SM-73KUX</th>\n",
              "      <th>GTEX-1K9T9-1826-SM-CXZK2</th>\n",
              "      <th>GTEX-REY6-1826-SM-EAZAT</th>\n",
              "      <th>GTEX-1JMQK-1926-SM-CJI3B</th>\n",
              "      <th>GTEX-QLQW-1626-SM-CMKFE</th>\n",
              "      <th>GTEX-T5JC-1626-SM-EZ6KW</th>\n",
              "      <th>GTEX-RU72-1926-SM-EAZ3F</th>\n",
              "      <th>GTEX-R55E-2026-SM-EZ6L1</th>\n",
              "      <th>GTEX-TKQ2-0626-SM-EZ6LB</th>\n",
              "    </tr>\n",
              "  </thead>\n",
              "  <tbody>\n",
              "    <tr>\n",
              "      <th>0</th>\n",
              "      <td>0.831916</td>\n",
              "      <td>-0.875206</td>\n",
              "      <td>1.562986</td>\n",
              "      <td>1.344833</td>\n",
              "      <td>0.083874</td>\n",
              "      <td>-1.569096</td>\n",
              "      <td>1.226757</td>\n",
              "      <td>1.730765</td>\n",
              "      <td>1.047042</td>\n",
              "      <td>0.415607</td>\n",
              "      <td>...</td>\n",
              "      <td>-0.047211</td>\n",
              "      <td>-0.078238</td>\n",
              "      <td>-0.037539</td>\n",
              "      <td>-0.033513</td>\n",
              "      <td>-0.048795</td>\n",
              "      <td>-0.058642</td>\n",
              "      <td>-0.057140</td>\n",
              "      <td>-0.043311</td>\n",
              "      <td>-0.058015</td>\n",
              "      <td>-0.046366</td>\n",
              "    </tr>\n",
              "    <tr>\n",
              "      <th>1</th>\n",
              "      <td>1.586684</td>\n",
              "      <td>-0.625365</td>\n",
              "      <td>1.501325</td>\n",
              "      <td>1.664786</td>\n",
              "      <td>-0.195935</td>\n",
              "      <td>-2.343094</td>\n",
              "      <td>0.944421</td>\n",
              "      <td>2.131194</td>\n",
              "      <td>1.560687</td>\n",
              "      <td>0.696708</td>\n",
              "      <td>...</td>\n",
              "      <td>0.092198</td>\n",
              "      <td>0.638042</td>\n",
              "      <td>0.013663</td>\n",
              "      <td>-0.020666</td>\n",
              "      <td>0.438626</td>\n",
              "      <td>0.439555</td>\n",
              "      <td>0.410866</td>\n",
              "      <td>0.039279</td>\n",
              "      <td>0.229778</td>\n",
              "      <td>0.080912</td>\n",
              "    </tr>\n",
              "    <tr>\n",
              "      <th>2</th>\n",
              "      <td>1.512006</td>\n",
              "      <td>-0.633814</td>\n",
              "      <td>1.623401</td>\n",
              "      <td>1.752944</td>\n",
              "      <td>-0.225951</td>\n",
              "      <td>-2.370446</td>\n",
              "      <td>1.012689</td>\n",
              "      <td>2.129643</td>\n",
              "      <td>1.627544</td>\n",
              "      <td>0.669405</td>\n",
              "      <td>...</td>\n",
              "      <td>-0.009839</td>\n",
              "      <td>0.044456</td>\n",
              "      <td>-0.017723</td>\n",
              "      <td>-0.024342</td>\n",
              "      <td>-0.006470</td>\n",
              "      <td>-0.008081</td>\n",
              "      <td>0.000324</td>\n",
              "      <td>-0.024102</td>\n",
              "      <td>-0.035819</td>\n",
              "      <td>-0.025119</td>\n",
              "    </tr>\n",
              "    <tr>\n",
              "      <th>3</th>\n",
              "      <td>1.557038</td>\n",
              "      <td>-0.682262</td>\n",
              "      <td>1.655204</td>\n",
              "      <td>1.768889</td>\n",
              "      <td>-0.183884</td>\n",
              "      <td>-2.410138</td>\n",
              "      <td>1.042857</td>\n",
              "      <td>2.182709</td>\n",
              "      <td>1.632284</td>\n",
              "      <td>0.694196</td>\n",
              "      <td>...</td>\n",
              "      <td>-0.051698</td>\n",
              "      <td>-0.077213</td>\n",
              "      <td>-0.042488</td>\n",
              "      <td>-0.035035</td>\n",
              "      <td>-0.050080</td>\n",
              "      <td>-0.056835</td>\n",
              "      <td>-0.057243</td>\n",
              "      <td>-0.044777</td>\n",
              "      <td>-0.051481</td>\n",
              "      <td>-0.045628</td>\n",
              "    </tr>\n",
              "    <tr>\n",
              "      <th>4</th>\n",
              "      <td>2.530112</td>\n",
              "      <td>-0.654009</td>\n",
              "      <td>0.960374</td>\n",
              "      <td>0.225985</td>\n",
              "      <td>-1.025861</td>\n",
              "      <td>-3.003521</td>\n",
              "      <td>-0.791186</td>\n",
              "      <td>1.031723</td>\n",
              "      <td>0.886711</td>\n",
              "      <td>2.031643</td>\n",
              "      <td>...</td>\n",
              "      <td>-0.027831</td>\n",
              "      <td>-0.021116</td>\n",
              "      <td>-0.021738</td>\n",
              "      <td>-0.028349</td>\n",
              "      <td>-0.024094</td>\n",
              "      <td>-0.026113</td>\n",
              "      <td>-0.026702</td>\n",
              "      <td>-0.024048</td>\n",
              "      <td>0.018506</td>\n",
              "      <td>-0.018342</td>\n",
              "    </tr>\n",
              "    <tr>\n",
              "      <th>...</th>\n",
              "      <td>...</td>\n",
              "      <td>...</td>\n",
              "      <td>...</td>\n",
              "      <td>...</td>\n",
              "      <td>...</td>\n",
              "      <td>...</td>\n",
              "      <td>...</td>\n",
              "      <td>...</td>\n",
              "      <td>...</td>\n",
              "      <td>...</td>\n",
              "      <td>...</td>\n",
              "      <td>...</td>\n",
              "      <td>...</td>\n",
              "      <td>...</td>\n",
              "      <td>...</td>\n",
              "      <td>...</td>\n",
              "      <td>...</td>\n",
              "      <td>...</td>\n",
              "      <td>...</td>\n",
              "      <td>...</td>\n",
              "      <td>...</td>\n",
              "    </tr>\n",
              "    <tr>\n",
              "      <th>11691</th>\n",
              "      <td>-0.098806</td>\n",
              "      <td>0.098325</td>\n",
              "      <td>-0.135349</td>\n",
              "      <td>0.006235</td>\n",
              "      <td>0.164256</td>\n",
              "      <td>-0.142482</td>\n",
              "      <td>-0.110952</td>\n",
              "      <td>0.007192</td>\n",
              "      <td>0.183228</td>\n",
              "      <td>0.123566</td>\n",
              "      <td>...</td>\n",
              "      <td>-0.050178</td>\n",
              "      <td>-0.078022</td>\n",
              "      <td>-0.042844</td>\n",
              "      <td>-0.035514</td>\n",
              "      <td>-0.050040</td>\n",
              "      <td>-0.057313</td>\n",
              "      <td>-0.057023</td>\n",
              "      <td>-0.044749</td>\n",
              "      <td>-0.057915</td>\n",
              "      <td>-0.046715</td>\n",
              "    </tr>\n",
              "    <tr>\n",
              "      <th>11692</th>\n",
              "      <td>0.118535</td>\n",
              "      <td>-0.084889</td>\n",
              "      <td>0.057141</td>\n",
              "      <td>-0.158630</td>\n",
              "      <td>-0.264094</td>\n",
              "      <td>0.053916</td>\n",
              "      <td>0.011378</td>\n",
              "      <td>0.079411</td>\n",
              "      <td>-0.085551</td>\n",
              "      <td>0.033139</td>\n",
              "      <td>...</td>\n",
              "      <td>-0.045890</td>\n",
              "      <td>-0.067169</td>\n",
              "      <td>-0.038599</td>\n",
              "      <td>-0.034448</td>\n",
              "      <td>-0.046173</td>\n",
              "      <td>-0.053460</td>\n",
              "      <td>-0.053283</td>\n",
              "      <td>-0.041398</td>\n",
              "      <td>-0.049632</td>\n",
              "      <td>-0.042863</td>\n",
              "    </tr>\n",
              "    <tr>\n",
              "      <th>11693</th>\n",
              "      <td>0.109180</td>\n",
              "      <td>-0.096923</td>\n",
              "      <td>0.073025</td>\n",
              "      <td>-0.160119</td>\n",
              "      <td>-0.279483</td>\n",
              "      <td>0.068111</td>\n",
              "      <td>0.016523</td>\n",
              "      <td>0.082999</td>\n",
              "      <td>-0.093696</td>\n",
              "      <td>0.036240</td>\n",
              "      <td>...</td>\n",
              "      <td>0.009073</td>\n",
              "      <td>0.106478</td>\n",
              "      <td>-0.021237</td>\n",
              "      <td>-0.026583</td>\n",
              "      <td>0.022160</td>\n",
              "      <td>0.040422</td>\n",
              "      <td>0.072483</td>\n",
              "      <td>-0.003135</td>\n",
              "      <td>-0.003578</td>\n",
              "      <td>0.000643</td>\n",
              "    </tr>\n",
              "    <tr>\n",
              "      <th>11694</th>\n",
              "      <td>0.257060</td>\n",
              "      <td>0.038508</td>\n",
              "      <td>0.030175</td>\n",
              "      <td>-0.007967</td>\n",
              "      <td>0.152779</td>\n",
              "      <td>-0.065031</td>\n",
              "      <td>-0.114082</td>\n",
              "      <td>-0.039099</td>\n",
              "      <td>0.097577</td>\n",
              "      <td>-0.140452</td>\n",
              "      <td>...</td>\n",
              "      <td>-0.042815</td>\n",
              "      <td>-0.062011</td>\n",
              "      <td>-0.038395</td>\n",
              "      <td>-0.033848</td>\n",
              "      <td>-0.044726</td>\n",
              "      <td>-0.049332</td>\n",
              "      <td>-0.050442</td>\n",
              "      <td>-0.041550</td>\n",
              "      <td>-0.043314</td>\n",
              "      <td>-0.042168</td>\n",
              "    </tr>\n",
              "    <tr>\n",
              "      <th>11695</th>\n",
              "      <td>0.081084</td>\n",
              "      <td>-0.099287</td>\n",
              "      <td>0.226938</td>\n",
              "      <td>0.254299</td>\n",
              "      <td>-0.118996</td>\n",
              "      <td>-0.353263</td>\n",
              "      <td>0.048829</td>\n",
              "      <td>-0.014604</td>\n",
              "      <td>0.052385</td>\n",
              "      <td>0.211009</td>\n",
              "      <td>...</td>\n",
              "      <td>-0.047896</td>\n",
              "      <td>-0.065644</td>\n",
              "      <td>-0.039522</td>\n",
              "      <td>-0.034657</td>\n",
              "      <td>-0.046549</td>\n",
              "      <td>-0.053877</td>\n",
              "      <td>-0.051354</td>\n",
              "      <td>-0.041394</td>\n",
              "      <td>-0.048655</td>\n",
              "      <td>-0.042850</td>\n",
              "    </tr>\n",
              "  </tbody>\n",
              "</table>\n",
              "<p>11696 rows × 233 columns</p>\n",
              "</div>"
            ],
            "text/plain": [
              "          XGB_1     XGB_2     XGB_3     XGB_4     XGB_5     XGB_6     XGB_7  \\\n",
              "0      0.831916 -0.875206  1.562986  1.344833  0.083874 -1.569096  1.226757   \n",
              "1      1.586684 -0.625365  1.501325  1.664786 -0.195935 -2.343094  0.944421   \n",
              "2      1.512006 -0.633814  1.623401  1.752944 -0.225951 -2.370446  1.012689   \n",
              "3      1.557038 -0.682262  1.655204  1.768889 -0.183884 -2.410138  1.042857   \n",
              "4      2.530112 -0.654009  0.960374  0.225985 -1.025861 -3.003521 -0.791186   \n",
              "...         ...       ...       ...       ...       ...       ...       ...   \n",
              "11691 -0.098806  0.098325 -0.135349  0.006235  0.164256 -0.142482 -0.110952   \n",
              "11692  0.118535 -0.084889  0.057141 -0.158630 -0.264094  0.053916  0.011378   \n",
              "11693  0.109180 -0.096923  0.073025 -0.160119 -0.279483  0.068111  0.016523   \n",
              "11694  0.257060  0.038508  0.030175 -0.007967  0.152779 -0.065031 -0.114082   \n",
              "11695  0.081084 -0.099287  0.226938  0.254299 -0.118996 -0.353263  0.048829   \n",
              "\n",
              "          XGB_8     XGB_9    XGB_10  ...  GTEX-1497J-0826-SM-5NQAJ  \\\n",
              "0      1.730765  1.047042  0.415607  ...                 -0.047211   \n",
              "1      2.131194  1.560687  0.696708  ...                  0.092198   \n",
              "2      2.129643  1.627544  0.669405  ...                 -0.009839   \n",
              "3      2.182709  1.632284  0.694196  ...                 -0.051698   \n",
              "4      1.031723  0.886711  2.031643  ...                 -0.027831   \n",
              "...         ...       ...       ...  ...                       ...   \n",
              "11691  0.007192  0.183228  0.123566  ...                 -0.050178   \n",
              "11692  0.079411 -0.085551  0.033139  ...                 -0.045890   \n",
              "11693  0.082999 -0.093696  0.036240  ...                  0.009073   \n",
              "11694 -0.039099  0.097577 -0.140452  ...                 -0.042815   \n",
              "11695 -0.014604  0.052385  0.211009  ...                 -0.047896   \n",
              "\n",
              "       GTEX-1A3MW-2226-SM-73KUX  GTEX-1K9T9-1826-SM-CXZK2  \\\n",
              "0                     -0.078238                 -0.037539   \n",
              "1                      0.638042                  0.013663   \n",
              "2                      0.044456                 -0.017723   \n",
              "3                     -0.077213                 -0.042488   \n",
              "4                     -0.021116                 -0.021738   \n",
              "...                         ...                       ...   \n",
              "11691                 -0.078022                 -0.042844   \n",
              "11692                 -0.067169                 -0.038599   \n",
              "11693                  0.106478                 -0.021237   \n",
              "11694                 -0.062011                 -0.038395   \n",
              "11695                 -0.065644                 -0.039522   \n",
              "\n",
              "       GTEX-REY6-1826-SM-EAZAT  GTEX-1JMQK-1926-SM-CJI3B  \\\n",
              "0                    -0.033513                 -0.048795   \n",
              "1                    -0.020666                  0.438626   \n",
              "2                    -0.024342                 -0.006470   \n",
              "3                    -0.035035                 -0.050080   \n",
              "4                    -0.028349                 -0.024094   \n",
              "...                        ...                       ...   \n",
              "11691                -0.035514                 -0.050040   \n",
              "11692                -0.034448                 -0.046173   \n",
              "11693                -0.026583                  0.022160   \n",
              "11694                -0.033848                 -0.044726   \n",
              "11695                -0.034657                 -0.046549   \n",
              "\n",
              "       GTEX-QLQW-1626-SM-CMKFE  GTEX-T5JC-1626-SM-EZ6KW  \\\n",
              "0                    -0.058642                -0.057140   \n",
              "1                     0.439555                 0.410866   \n",
              "2                    -0.008081                 0.000324   \n",
              "3                    -0.056835                -0.057243   \n",
              "4                    -0.026113                -0.026702   \n",
              "...                        ...                      ...   \n",
              "11691                -0.057313                -0.057023   \n",
              "11692                -0.053460                -0.053283   \n",
              "11693                 0.040422                 0.072483   \n",
              "11694                -0.049332                -0.050442   \n",
              "11695                -0.053877                -0.051354   \n",
              "\n",
              "       GTEX-RU72-1926-SM-EAZ3F  GTEX-R55E-2026-SM-EZ6L1  \\\n",
              "0                    -0.043311                -0.058015   \n",
              "1                     0.039279                 0.229778   \n",
              "2                    -0.024102                -0.035819   \n",
              "3                    -0.044777                -0.051481   \n",
              "4                    -0.024048                 0.018506   \n",
              "...                        ...                      ...   \n",
              "11691                -0.044749                -0.057915   \n",
              "11692                -0.041398                -0.049632   \n",
              "11693                -0.003135                -0.003578   \n",
              "11694                -0.041550                -0.043314   \n",
              "11695                -0.041394                -0.048655   \n",
              "\n",
              "       GTEX-TKQ2-0626-SM-EZ6LB  \n",
              "0                    -0.046366  \n",
              "1                     0.080912  \n",
              "2                    -0.025119  \n",
              "3                    -0.045628  \n",
              "4                    -0.018342  \n",
              "...                        ...  \n",
              "11691                -0.046715  \n",
              "11692                -0.042863  \n",
              "11693                 0.000643  \n",
              "11694                -0.042168  \n",
              "11695                -0.042850  \n",
              "\n",
              "[11696 rows x 233 columns]"
            ]
          },
          "execution_count": 13,
          "metadata": {},
          "output_type": "execute_result"
        }
      ],
      "source": [
        "embedding_df = pd.DataFrame(embedding, columns = [f'{method}_' + str(i + 1)  for i in range(embedding.shape[1])])\n",
        "z = pd.concat([embedding_df, x], axis=1)\n",
        "z"
      ]
    },
    {
      "cell_type": "markdown",
      "metadata": {
        "id": "0Af3V8Lcs8se"
      },
      "source": [
        "# Regression\n"
      ]
    },
    {
      "cell_type": "code",
      "execution_count": 28,
      "metadata": {
        "colab": {
          "base_uri": "https://localhost:8080/",
          "height": 98
        },
        "id": "zQz-lKkpTjNw",
        "outputId": "394e284b-f557-4082-a23b-1947ce001caa"
      },
      "outputs": [
        {
          "name": "stdout",
          "output_type": "stream",
          "text": [
            "neg_mean_absolute_error: 0.266\n",
            "R2: 0.077\n"
          ]
        }
      ],
      "source": [
        "#@title Choose classifier { run: \"auto\", form-width: \"20%\" }\n",
        "from xgboost import XGBRegressor\n",
        "from sklearn.multioutput import MultiOutputRegressor, RegressorChain\n",
        "from sklearn.linear_model import Ridge, LogisticRegression\n",
        "from sklearn.ensemble import GradientBoostingRegressor, AdaBoostRegressor\n",
        "from sklearn.linear_model import LinearRegression\n",
        "from sklearn.model_selection import RepeatedKFold, cross_val_score\n",
        "from tqdm import tqdm\n",
        "from sklearn.metrics import *\n",
        "import sys\n",
        "sys.path.append('.')\n",
        "from multiscorer import MultiScorer\n",
        "from numpy import absolute,average\n",
        "seed=1\n",
        "set_seed(seed)\n",
        "\n",
        "scorer = MultiScorer({\n",
        "    'neg_mean_absolute_error'  : (mean_absolute_error , {}),\n",
        "    'R2' : (r2_score, {}),\n",
        "})\n",
        "\n",
        "\n",
        "X = z.to_numpy()\n",
        "Y = y.values\n",
        "cv = RepeatedKFold(n_splits=10, n_repeats=1, random_state=1)\n",
        "# define model\n",
        "model = LinearRegression()\n",
        "#model = MultiOutputRegressor(Ridge(random_state=123))\n",
        "\n",
        "# evaluate model\n",
        "cross_val_score(model, X, Y, scoring=scorer, cv=cv)\n",
        "results = scorer.get_results()\n",
        "# force scores to be positive\n",
        "for metric in results.keys():                                        # Iterate and use the results\n",
        "  print(\"%s: %.3f\" % (metric, average(results[metric])))\n"
      ]
    }
  ],
  "metadata": {
    "accelerator": "GPU",
    "colab": {
      "collapsed_sections": [],
      "name": "EssentialGenes_ML.ipynb",
      "provenance": []
    },
    "interpreter": {
      "hash": "bc6e667b201477635ba32fc377e71e93fe0ce3fc2d2fb508931525558f52d375"
    },
    "kernelspec": {
      "display_name": "Python 3.8.3 ('base')",
      "language": "python",
      "name": "python3"
    },
    "language_info": {
      "codemirror_mode": {
        "name": "ipython",
        "version": 3
      },
      "file_extension": ".py",
      "mimetype": "text/x-python",
      "name": "python",
      "nbconvert_exporter": "python",
      "pygments_lexer": "ipython3",
      "version": "3.8.3"
    }
  },
  "nbformat": 4,
  "nbformat_minor": 0
}
