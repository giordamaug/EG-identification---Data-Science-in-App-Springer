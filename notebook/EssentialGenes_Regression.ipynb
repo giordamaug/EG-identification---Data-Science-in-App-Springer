{
  "cells": [
    {
      "cell_type": "markdown",
      "metadata": {
        "id": "aufb4M-rwRHo"
      },
      "source": [
        "[![Google Colab](https://colab.research.google.com/assets/colab-badge.svg)](https://colab.research.google.com/github/giordamaug/EG-identification---Data-Science-in-App-Springer/blob/main/notebook/EssentialGenes_Regression.ipynb)\n",
        "[![Binder](https://mybinder.org/badge_logo.svg)](https://mybinder.org/v2/gh/giordamaug/EG-identification---Data-Science-in-App-Springer/main?filepath=notebook%2FEssentialGenes_Regression.ipynb)"
      ]
    },
    {
      "cell_type": "markdown",
      "metadata": {
        "id": "MNgwF_IjTjNq"
      },
      "source": [
        "# Loading required libraries"
      ]
    },
    {
      "cell_type": "code",
      "execution_count": 30,
      "metadata": {},
      "outputs": [],
      "source": [
        "import sys\n",
        "IN_COLAB = 'google.colab' in sys.modules\n",
        "if IN_COLAB:\n",
        "    !pip install -q karateclub\n",
        "    !pip install -q pandas\n",
        "    !pip install -q sklearn\n",
        "    !pip install -q imblearn\n",
        "    !pip install -q xgboost\n",
        "    !pip install -q tqdm"
      ]
    },
    {
      "cell_type": "code",
      "execution_count": 2,
      "metadata": {
        "id": "ddc1yRocTjNr"
      },
      "outputs": [],
      "source": [
        "import warnings\n",
        "warnings.filterwarnings('ignore')\n",
        "import random\n",
        "import numpy as np\n",
        "import pandas as pd\n",
        "def set_seed(seed=1):\n",
        "    random.seed(seed)\n",
        "    np.random.seed(seed)"
      ]
    },
    {
      "cell_type": "markdown",
      "metadata": {
        "id": "jwXYNEIFff-l"
      },
      "source": [
        "# Download dataset from Github"
      ]
    },
    {
      "cell_type": "code",
      "execution_count": null,
      "metadata": {
        "colab": {
          "base_uri": "https://localhost:8080/"
        },
        "id": "ykT1KO_4eqvK",
        "outputId": "f8fe3e55-a9aa-46b8-d5b6-5e2344edbc25"
      },
      "outputs": [],
      "source": [
        "!wget https://raw.githubusercontent.com/giordamaug/EG-identification---Data-Science-in-App-Springer/main/data/ppi.csv\n",
        "!wget https://raw.githubusercontent.com/giordamaug/EG-identification---Data-Science-in-App-Springer/main/data/labels.csv\n",
        "!wget https://raw.githubusercontent.com/giordamaug/EG-identification---Data-Science-in-App-Springer/main/data/bio_attributes.csv\n",
        "!wget https://raw.githubusercontent.com/giordamaug/EG-identification---Data-Science-in-App-Springer/main/data/net_attributes.csv\n",
        "!wget https://raw.githubusercontent.com/giordamaug/EG-identification---Data-Science-in-App-Springer/main/data/gtex_attributes.csv\n",
        "!wget https://raw.githubusercontent.com/giordamaug/EG-identification---Data-Science-in-App-Springer/main/data/ppi+met.csv\n",
        "!wget https://raw.githubusercontent.com/giordamaug/EG-identification---Data-Science-in-App-Springer/main/data/scores.csv"
        "!wget https://raw.githubusercontent.com/giordamaug/EG-identification---Data-Science-in-App-Springer/notebook/multiscore.py"
      ]
    },
    {
      "cell_type": "markdown",
      "metadata": {
        "id": "TqYLkDA1yW-K"
      },
      "source": [
        "# Load the label\n",
        "Only a subset of genes are selected for classification:\n",
        "+ genes belonging to CS0 group, that are labeled as Essential (E);\n",
        "+ genes belonging to CS6, CS7, ..., CS9 groups, that are labeled as Not-Essential (NE).\n",
        "\n",
        "All remaining genes belong to intermediate groups (CS1-CS5) and are considered undetermined (label ND) "
      ]
    },
    {
      "cell_type": "code",
      "execution_count": 4,
      "metadata": {
        "colab": {
          "base_uri": "https://localhost:8080/"
        },
        "id": "ahZH3I5SyW-K",
        "outputId": "af032f75-f8dd-42a6-f73d-cedfed24eb19"
      },
      "outputs": [
        {
          "name": "stdout",
          "output_type": "stream",
          "text": [
            "Selected 11696 genes\n"
          ]
        }
      ],
      "source": [
        "datapath='.'\n",
        "scores = pd.read_csv(f\"{datapath}/scores.csv\", index_col='name')\n",
        "genes = scores.index.values                                             # get genes with defined labels (E or NE)\n",
        "scores = scores.reset_index()                                           # reindex genes by consecutive integers\n",
        "scores['index'] = scores.index\n",
        "gene2idx_mapping = { v[1] : v[0]  for v in scores[['index', 'name']].values }           # create mapping index by gene name\n",
        "idx2gene_mapping = { v[0] : v[1]  for v in scores[['index', 'name']].values }           # create mapping index by gene name\n",
        "y = scores.drop(columns=['name','index'])\n",
        "print(f'Selected {len(genes)} genes')"
      ]
    },
    {
      "cell_type": "markdown",
      "metadata": {
        "id": "Vmbko7ys1m-d"
      },
      "source": [
        "# Load attributes to be used\n",
        "We identified three sets of attributes:\n",
        "1. bio attributes, related to gene information (such as, expression, etc.)\n",
        "2. net attributes, derived from role of gene/node in the network (such as, degree, centrality, etc.)\n",
        "3. GTEX-* attribute, additional biological information of genes \n",
        "Based on user selection, the node attributes are appended in a single matrix of attributes (`x`)\n",
        "\n",
        "In the attribute matrix `x` there can be NaN or Infinite values. They are corrected as it follow:\n",
        "+ NaN is replaced by the mean in the attribute range, \n",
        "+ Infinte value is replaced by the maximum in the range.\n",
        "\n",
        "After Nan and Infinite values fixing, the attributes are normalized with Z-score or MinMax normalization functions.\n",
        "\n",
        "At the end, only nodes (genes) with E or NE labels are selected for the classification"
      ]
    },
    {
      "cell_type": "code",
      "execution_count": 5,
      "metadata": {
        "colab": {
          "base_uri": "https://localhost:8080/",
          "height": 491
        },
        "id": "e1eTV5Ky2R9_",
        "outputId": "56a0d941-e25f-4066-850a-9bfa3f7eaf86"
      },
      "outputs": [
        {
          "name": "stdout",
          "output_type": "stream",
          "text": [
            "Found 15705 NaN values and 0 Infinite values\n",
            "X attributes normalization (zscore)...\n",
            "New attribute matrix x(11696, 105)\n"
          ]
        }
      ],
      "source": [
        "#@title Choose attributes { form-width: \"20%\" }\n",
        "normalize_node = \"zscore\" #@param [\"\", \"zscore\", \"minmax\"]\n",
        "bio = True #@param {type:\"boolean\"}\n",
        "gtex = True #@param {type:\"boolean\"}\n",
        "net = False #@param {type:\"boolean\"}\n",
        "variable_name = \"bio\"\n",
        "bio_df = pd.read_csv(f\"{datapath}/bio_attributes.csv\", index_col='name') if bio else pd.DataFrame()\n",
        "gtex_df = pd.read_csv(f\"{datapath}/gtex_attributes.csv\", index_col='name') if gtex else pd.DataFrame()\n",
        "net_df = pd.read_csv(f\"{datapath}/net_attributes.csv\", index_col='name') if net else pd.DataFrame()\n",
        "x = pd.concat([bio_df, gtex_df, net_df], axis=1)\n",
        "print(f'Found {x.isnull().sum().sum()} NaN values and {np.isinf(x).values.sum()} Infinite values')\n",
        "for col in x.columns[x.isna().any()].tolist():\n",
        "  mean_value=x[col].mean()          # Replace NaNs in column with the mean of values in the same column\n",
        "  if mean_value is not np.nan:\n",
        "    x[col].fillna(value=mean_value, inplace=True)\n",
        "  else:                             # otherwise, if the mean is NaN, remove the column\n",
        "    x = x.drop(col, 1)\n",
        "if normalize_node == 'minmax':\n",
        "  print(\"X attributes normalization (minmax)...\")\n",
        "  x = (x-x.min())/(x.max()-x.min())\n",
        "elif normalize_node == 'zscore':\n",
        "  print(\"X attributes normalization (zscore)...\")\n",
        "  x = (x-x.mean())/x.std()\n",
        "x = x.loc[genes]\n",
        "x[\"index\"] = x.index\n",
        "x = x.replace({\"index\": gene2idx_mapping})\n",
        "x = x.set_index('index')\n",
        "print(f'New attribute matrix x{x.shape}')\n"
      ]
    },
    {
      "cell_type": "markdown",
      "metadata": {
        "id": "KGZqjWBcmNM6"
      },
      "source": [
        "# Load the PPI+MET network\n",
        "The PPI networks is loaded from a CSV file, where\n",
        "*   `A` is the column name for edge source (gene name)\n",
        "*   `B` is the column name for edge target (gene name)\n",
        "*   `weight` is the column name for edge weight\n",
        "Only some method use the PPI netoworks, as an example all GCN methods, and Node2Vec."
      ]
    },
    {
      "cell_type": "code",
      "execution_count": 6,
      "metadata": {
        "id": "ku9EUnJfmMF4"
      },
      "outputs": [],
      "source": [
        "import networkx as nx\n",
        "ppi = pd.read_csv(f'{datapath}/ppi+met.csv')                               # read PPI+MET network from CSV file\n",
        "ppi = ppi.loc[((ppi['A'].isin(genes)) & (ppi['B'].isin(genes)))]           # reduce network only to selected nodes/genes\n",
        "ppi = ppi.replace({\"A\": gene2idx_mapping, \"B\": gene2idx_mapping})          # replace gene name in ppi"
      ]
    },
    {
      "cell_type": "code",
      "execution_count": 7,
      "metadata": {},
      "outputs": [
        {
          "name": "stdout",
          "output_type": "stream",
          "text": [
            "Graph with 11696 nodes and 107513 edges\n",
            "There are 8006 isolated genes\n"
          ]
        }
      ],
      "source": [
        "edge_list = [list(v) for v in list(ppi[['A','B', 'weight']].values)]      # get the edge list (with weights)\n",
        "G = nx.Graph()\n",
        "G.add_nodes_from(range(len(genes)))                                       # add all nodes (genes, also isolated ones)\n",
        "G.add_weighted_edges_from(edge_list)                                      # add all edges\n",
        "print(nx.info(G))\n",
        "print(f\"There are {len(list(nx.isolates(G)))} isolated genes\")"
      ]
    },
    {
      "cell_type": "markdown",
      "metadata": {},
      "source": [
        "## Node2vec embedding"
      ]
    },
    {
      "cell_type": "code",
      "execution_count": 8,
      "metadata": {},
      "outputs": [],
      "source": [
        "import karateclub as kc\n",
        "method = 'Node2Vec'\n",
        "params = {\"walk_number\": 10, \n",
        "          \"walk_length\": 80, \n",
        "          \"p\": 1.0, \n",
        "          \"q\": 1.0, \n",
        "          \"dimensions\": 128, \n",
        "          \"workers\": 4, \n",
        "          \"window_size\": 5, \n",
        "          \"epochs\": 1, \n",
        "          \"learning_rate\": 0.05, \n",
        "          \"min_count\": 1, \n",
        "          \"seed\": 42}\n",
        "n2v = kc.Node2Vec(**params)    # choose here your embedding method\n",
        "n2v.fit(G)\n",
        "embedding = n2v.get_embedding()"
      ]
    },
    {
      "cell_type": "markdown",
      "metadata": {},
      "source": [
        "## Convert embedding to dataframe and append it to attributes"
      ]
    },
    {
      "cell_type": "code",
      "execution_count": null,
      "metadata": {},
      "outputs": [],
      "source": [
        "embedding_df = pd.DataFrame(embedding, columns = [f'{method}_' + str(i + 1)  for i in range(embedding.shape[1])])\n",
        "z = pd.concat([embedding_df, x], axis=1)\n",
        "z"
      ]
    },
    {
      "cell_type": "markdown",
      "metadata": {
        "id": "0Af3V8Lcs8se"
      },
      "source": [
        "# Regression\n"
      ]
    },
    {
      "cell_type": "code",
      "execution_count": 28,
      "metadata": {
        "colab": {
          "base_uri": "https://localhost:8080/",
          "height": 98
        },
        "id": "zQz-lKkpTjNw",
        "outputId": "394e284b-f557-4082-a23b-1947ce001caa"
      },
      "outputs": [
        {
          "name": "stdout",
          "output_type": "stream",
          "text": [
            "neg_mean_absolute_error: 0.266\n",
            "R2: 0.077\n"
          ]
        }
      ],
      "source": [
        "#@title Choose classifier { run: \"auto\", form-width: \"20%\" }\n",
        "from xgboost import XGBRegressor\n",
        "from sklearn.multioutput import MultiOutputRegressor, RegressorChain\n",
        "from sklearn.linear_model import Ridge, LogisticRegression\n",
        "from sklearn.ensemble import GradientBoostingRegressor, AdaBoostRegressor\n",
        "from sklearn.linear_model import LinearRegression\n",
        "from sklearn.model_selection import RepeatedKFold, cross_val_score\n",
        "from tqdm import tqdm\n",
        "from sklearn.metrics import *\n",
        "import sys\n",
        "sys.path.append('.')\n",
        "from multiscorer import MultiScorer\n",
        "from numpy import absolute,average\n",
        "seed=1\n",
        "set_seed(seed)\n",
        "\n",
        "scorer = MultiScorer({\n",
        "    'neg_mean_absolute_error'  : (mean_absolute_error , {}),\n",
        "    'R2' : (r2_score, {}),\n",
        "})\n",
        "\n",
        "\n",
        "X = z.to_numpy()\n",
        "Y = y.values\n",
        "cv = RepeatedKFold(n_splits=10, n_repeats=1, random_state=1)\n",
        "# define model\n",
        "model = LinearRegression()\n",
        "#model = MultiOutputRegressor(Ridge(random_state=123))\n",
        "\n",
        "# evaluate model\n",
        "cross_val_score(model, X, Y, scoring=scorer, cv=cv)\n",
        "results = scorer.get_results()\n",
        "# force scores to be positive\n",
        "for metric in results.keys():                                        # Iterate and use the results\n",
        "  print(\"%s: %.3f\" % (metric, average(results[metric])))\n"
      ]
    }
  ],
  "metadata": {
    "accelerator": "GPU",
    "colab": {
      "collapsed_sections": [],
      "name": "EssentialGenes_ML.ipynb",
      "provenance": []
    },
    "interpreter": {
      "hash": "bc6e667b201477635ba32fc377e71e93fe0ce3fc2d2fb508931525558f52d375"
    },
    "kernelspec": {
      "display_name": "Python 3.8.3 ('base')",
      "language": "python",
      "name": "python3"
    },
    "language_info": {
      "codemirror_mode": {
        "name": "ipython",
        "version": 3
      },
      "file_extension": ".py",
      "mimetype": "text/x-python",
      "name": "python",
      "nbconvert_exporter": "python",
      "pygments_lexer": "ipython3",
      "version": "3.8.3"
    }
  },
  "nbformat": 4,
  "nbformat_minor": 0
}
