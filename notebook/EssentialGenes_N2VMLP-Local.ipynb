{
 "cells": [
  {
   "cell_type": "markdown",
   "metadata": {
    "id": "IfPQC9rUj1yg"
   },
   "source": [
    "[![Google Colab](https://colab.research.google.com/assets/colab-badge.svg)](https://colab.research.google.com/github/giordamaug/EG-identification---Data-Science-in-App-Springer/blob/main/notebook/EssentialGenes_N2VMLP.ipynb)\n",
    "[![Binder](https://mybinder.org/badge_logo.svg)](https://mybinder.org/v2/gh/giordamaug/EG-identification---Data-Science-in-App-Springer/main?filepath=notebook%2FEssentialGenes_N2VMLP.ipynb)"
   ]
  },
  {
   "cell_type": "markdown",
   "metadata": {
    "id": "MNgwF_IjTjNq"
   },
   "source": [
    "# Loading required libraries"
   ]
  },
  {
   "cell_type": "code",
   "execution_count": 2,
   "metadata": {
    "id": "ddc1yRocTjNr"
   },
   "outputs": [],
   "source": [
    "import warnings\n",
    "warnings.filterwarnings('ignore')\n",
    "import random\n",
    "import numpy as np\n",
    "import pandas as pd\n",
    "import torch\n",
    "def set_seed(seed=1):\n",
    "    random.seed(seed)\n",
    "    np.random.seed(seed)\n",
    "    torch.manual_seed(seed)\n",
    "    if torch.cuda.is_available():\n",
    "        torch.cuda.manual_seed(seed)\n",
    "import os\n",
    "os.chdir(\"../data\")"
   ]
  },
  {
   "cell_type": "markdown",
   "metadata": {
    "id": "TqYLkDA1yW-K"
   },
   "source": [
    "# Load the label\n",
    "Only a subset of genes are selected for classification:\n",
    "+ genes belonging to CS0 group, that are labeled as Essential (E);\n",
    "+ genes belonging to CS6, CS7, ..., CS9 groups, that are labeled as Not-Essential (NE).\n",
    "\n",
    "All remaining genes belong to intermediate groups (CS1-CS5) and are considered undetermined (label ND) "
   ]
  },
  {
   "cell_type": "code",
   "execution_count": 4,
   "metadata": {
    "colab": {
     "base_uri": "https://localhost:8080/"
    },
    "id": "ahZH3I5SyW-K",
    "outputId": "5ab95e5a-e602-49b3-dd02-5abdf20d3f0c"
   },
   "outputs": [
    {
     "name": "stdout",
     "output_type": "stream",
     "text": [
      "Selected 3814 genes\n"
     ]
    }
   ],
   "source": [
    "labels = pd.read_csv(\"labels.csv\", index_col='name')\n",
    "labels = labels[labels[\"CS0_vs_CS6-9\"].isin(['E', 'NE']) == True]       # drop any gene with undefined (ND) label\n",
    "genes = labels.index.values                                             # get genes with defined labels (E or NE)\n",
    "print(f'Selected {len(genes)} genes')"
   ]
  },
  {
   "cell_type": "markdown",
   "metadata": {
    "id": "2DzCmBgbj1yn"
   },
   "source": [
    "## Encode the labels\n",
    "String labels E and Ne are respectively encoded to 0 and 1.\n",
    "The array `y` containes numeric labels of genes."
   ]
  },
  {
   "cell_type": "code",
   "execution_count": 15,
   "metadata": {
    "colab": {
     "base_uri": "https://localhost:8080/"
    },
    "id": "mBkOf7R0j1yo",
    "outputId": "bce09d0f-1fbd-4a35-aa65-4257c54d19f6"
   },
   "outputs": [
    {
     "name": "stdout",
     "output_type": "stream",
     "text": [
      "{'E': 0, 'NE': 1} Counter({1: 3069, 0: 745})\n"
     ]
    }
   ],
   "source": [
    "from sklearn import preprocessing\n",
    "from collections import Counter\n",
    "encoder = preprocessing.LabelEncoder()\n",
    "y = encoder.fit_transform(labels['CS0_vs_CS6-9'].values)  \n",
    "classes_mapping = dict(zip(encoder.classes_, encoder.transform(encoder.classes_)))\n",
    "print(classes_mapping, Counter(y))"
   ]
  },
  {
   "cell_type": "markdown",
   "metadata": {
    "id": "Vmbko7ys1m-d"
   },
   "source": [
    "# Load attributes to be used\n",
    "We identified three sets of attributes:\n",
    "1. bio attributes, related to gene information (such as, expression, etc.)\n",
    "2. net attributes, derived from role of gene/node in the network (such as, degree, centrality, etc.)\n",
    "3. GTEX-* attribute, additional biological information of genes \n",
    "Based on user selection, the node attributes are appended in a single matrix of attributes (`x`)\n",
    "\n",
    "In the attribute matrix `x` there can be NaN or Infinite values. They are corrected as it follow:\n",
    "+ NaN is replaced by the mean in the attribute range, \n",
    "+ Infinte value is replaced by the maximum in the range.\n",
    "\n",
    "After Nan and Infinite values fixing, the attributes are normalized with Z-score or MinMax normalization functions.\n",
    "\n",
    "At the end, only nodes (genes) with E or NE labels are selected for the classification"
   ]
  },
  {
   "cell_type": "code",
   "execution_count": 16,
   "metadata": {
    "colab": {
     "base_uri": "https://localhost:8080/"
    },
    "id": "e1eTV5Ky2R9_",
    "outputId": "8be77c93-6bb6-491a-e287-125cc4f8419d"
   },
   "outputs": [
    {
     "name": "stdout",
     "output_type": "stream",
     "text": [
      "Found 15705 NaN values and 0 Infinite values\n",
      "X attributes normalization (zscore)...\n",
      "New attribute matrix x(3814, 105)\n"
     ]
    }
   ],
   "source": [
    "#@title Choose attributes { form-width: \"20%\" }\n",
    "normalize_node = \"zscore\" #@param [\"\", \"zscore\", \"minmax\"]\n",
    "bio = True #@param {type:\"boolean\"}\n",
    "gtex = True #@param {type:\"boolean\"}\n",
    "net = False #@param {type:\"boolean\"}\n",
    "variable_name = \"bio\"\n",
    "bio_df = pd.read_csv(\"bio_attributes.csv\", index_col='name') if bio else pd.DataFrame()\n",
    "gtex_df = pd.read_csv(\"gtex_attributes.csv\", index_col='name') if gtex else pd.DataFrame()\n",
    "net_df = pd.read_csv(\"net_attributes.csv\", index_col='name') if net else pd.DataFrame()\n",
    "x = pd.concat([bio_df, gtex_df, net_df], axis=1)\n",
    "print(f'Found {x.isnull().sum().sum()} NaN values and {np.isinf(x).values.sum()} Infinite values')\n",
    "for col in x.columns[x.isna().any()].tolist():\n",
    "  mean_value=x[col].mean()          # Replace NaNs in column with the mean of values in the same column\n",
    "  if mean_value is not np.nan:\n",
    "    x[col].fillna(value=mean_value, inplace=True)\n",
    "  else:                             # otherwise, if the mean is NaN, remove the column\n",
    "    x = x.drop(col, 1)\n",
    "if normalize_node == 'minmax':\n",
    "  print(\"X attributes normalization (minmax)...\")\n",
    "  x = (x-x.min())/(x.max()-x.min())\n",
    "elif normalize_node == 'zscore':\n",
    "  print(\"X attributes normalization (zscore)...\")\n",
    "  x = (x-x.mean())/x.std()\n",
    "x = x.loc[genes]\n",
    "print(f'New attribute matrix x{x.shape}')"
   ]
  },
  {
   "cell_type": "markdown",
   "metadata": {
    "id": "KGZqjWBcmNM6"
   },
   "source": [
    "# Load the PPI+MET network\n",
    "The PPI networks is loaded from a CSV file, where\n",
    "*   `A` is the column name for edge source (gene name)\n",
    "*   `B` is the column name for edge target (gene name)\n",
    "*   `weight` is the column name for edge weight\n",
    "Only some method use the PPI netoworks, as an example all GCN methods, and Node2Vec.\n",
    "\n",
    "The PPI+MET network is reduced by removing genes with undetermined labels"
   ]
  },
  {
   "cell_type": "code",
   "execution_count": 17,
   "metadata": {
    "id": "ku9EUnJfmMF4"
   },
   "outputs": [],
   "source": [
    "ppi = pd.read_csv('ppi+met.csv')                                               # read PPI+MET network from CSV file\n",
    "ppi = ppi.loc[((ppi['A'].isin(genes)) & (ppi['B'].isin(genes)))]           # reduce network only to selected nodes/genes\n",
    "idxlbl = labels.reset_index(drop=True)\n",
    "idxlbl['name'] = labels.index\n",
    "map_gene_to_idx = { v['name']: i  for i,v in idxlbl.to_dict('Index').items() }\n",
    "vfunc = np.vectorize(lambda t: map_gene_to_idx[t])\n",
    "edges_index = torch.from_numpy(vfunc(ppi[['A','B']].to_numpy().T)) "
   ]
  },
  {
   "cell_type": "markdown",
   "metadata": {
    "id": "HAkzHzMYbAQh"
   },
   "source": [
    "# k-fold cross validation with Node2Vec"
   ]
  },
  {
   "cell_type": "markdown",
   "metadata": {
    "id": "ulCMrjlowPPa"
   },
   "source": [
    "### MLP model"
   ]
  },
  {
   "cell_type": "code",
   "execution_count": 18,
   "metadata": {
    "id": "6-JS-m1wwR49"
   },
   "outputs": [],
   "source": [
    "import torch\n",
    "import torch.nn as nn\n",
    "import torch.nn.functional as F\n",
    "import torch.optim as optim\n",
    "DEVICE = torch.device('cuda' if torch.cuda.is_available() else 'cpu')\n",
    "\n",
    "class Loss():\n",
    "    def __init__(self, y):\n",
    "        self.y = y\n",
    "        self.pos_mask = y == 1\n",
    "        self.neg_mask = y == 0\n",
    "\n",
    "    def __call__(self, out):\n",
    "        pos_mask = self.pos_mask\n",
    "        neg_mask = self.neg_mask\n",
    "        loss_p = F.binary_cross_entropy_with_logits(\n",
    "            out[pos_mask].squeeze(), self.y[self.pos_mask].to(DEVICE))\n",
    "        loss_n = F.binary_cross_entropy_with_logits(\n",
    "            out[neg_mask].squeeze(), self.y[neg_mask].to(DEVICE))\n",
    "        loss = loss_p + loss_n\n",
    "        return loss\n",
    "\n",
    "def mlp_fit_predict(train_x, train_y, test_x, val=None, return_val_probs=False, log=False):\n",
    "    epochs = 1000\n",
    "\n",
    "    in_feats = train_x.shape[1]\n",
    "    model = nn.Sequential(\n",
    "        nn.Linear(in_feats, 32),\n",
    "        nn.ReLU(),\n",
    "        nn.Dropout(0.2),\n",
    "        nn.Linear(32, 1))\n",
    "    optimizer = torch.optim.Adam(model.parameters())\n",
    "\n",
    "    lossf = Loss(train_y)\n",
    "\n",
    "    if val is not None:\n",
    "        val_x, val_y = val\n",
    "        lossf_val = Loss(val_y)\n",
    "\n",
    "    model.train()\n",
    "    model.to(DEVICE)\n",
    "\n",
    "    patience, cur_es = 3, 0\n",
    "    val_loss_old = np.Inf\n",
    "\n",
    "    for i in range(epochs):\n",
    "        out = model(train_x)\n",
    "        loss = lossf(out)\n",
    "        optimizer.zero_grad()\n",
    "        loss.backward()\n",
    "        optimizer.step()\n",
    "        if (i % 10) == 0:\n",
    "            if val is not None:\n",
    "                model.eval()\n",
    "                with torch.no_grad():\n",
    "                    loss_val = lossf_val(model(val_x))\n",
    "                if log: print(f'{i}. Train loss:', loss.detach().cpu().numpy(), ' |  Val Loss:', loss_val.detach().cpu().numpy())\n",
    "                model.train()\n",
    "\n",
    "                if val_loss_old < loss_val:\n",
    "                    cur_es += 1\n",
    "                else:\n",
    "                    cur_es = 0\n",
    "                val_loss_old = loss_val\n",
    "\n",
    "                if cur_es == patience:\n",
    "                    break\n",
    "\n",
    "    model.eval()\n",
    "    with torch.no_grad():\n",
    "        out = model(test_x).cpu()\n",
    "    probs = torch.sigmoid(out).numpy()\n",
    "\n",
    "    if return_val_probs:\n",
    "        with torch.no_grad():\n",
    "            out = model(val_x).cpu()\n",
    "        val_probs = torch.sigmoid(out).numpy()\n",
    "\n",
    "        return probs, val_probs\n",
    "\n",
    "    return probs"
   ]
  },
  {
   "cell_type": "markdown",
   "metadata": {
    "id": "11kiH2juqU-M"
   },
   "source": [
    "### Node2vec model"
   ]
  },
  {
   "cell_type": "code",
   "execution_count": 19,
   "metadata": {
    "id": "eOqAt1Nua491"
   },
   "outputs": [],
   "source": [
    "from sklearn.svm import SVC\n",
    "from torch_geometric.nn.models import Node2Vec\n",
    "import torch.optim as optim\n",
    "import torch_cluster\n",
    "PARAMS = {\n",
    "    'embedding_dim': 128,\n",
    "    'walk_length': 64,\n",
    "    'context_size': 64,\n",
    "    'walks_per_node': 64,\n",
    "    'num_negative_samples': 1,\n",
    "}\n",
    "DEVICE = torch.device(\"cuda\" if torch.cuda.is_available() else \"cpu\")\n",
    "\n",
    "def train_epoch(n2v, n2v_loader, n2v_optimizer, X, train_y, train_mask, val_y, val_mask, test_mask, epochs=100, log=False):\n",
    "\n",
    "    X = X.to(DEVICE)\n",
    "    train_y = train_y.to(DEVICE)\n",
    "    val_y = val_y.to(DEVICE)\n",
    "    Z = None\n",
    "\n",
    "    n2v.train()\n",
    "    for i in range(epochs):\n",
    "        n2v_train_loss = 0\n",
    "\n",
    "        for (pos_rw, neg_rw) in n2v_loader:\n",
    "            n2v_optimizer.zero_grad()\n",
    "            loss = n2v.loss(pos_rw.to(DEVICE), neg_rw.to(DEVICE))\n",
    "            loss.backward()\n",
    "            n2v_optimizer.step()\n",
    "            n2v_train_loss += loss.data.item()\n",
    "        if log: print(f'Epoch {i}. N2V Train_Loss:', n2v_train_loss)\n",
    "    n2v.eval()\n",
    "    Z = n2v().detach()\n",
    "\n",
    "    if X is None:\n",
    "        train_x = Z[train_mask]\n",
    "        val_x = Z[val_mask]\n",
    "        test_x = Z[test_mask]\n",
    "    elif Z is not None:\n",
    "        train_x = torch.cat([Z[train_mask], X[train_mask]], dim=1)\n",
    "        val_x = torch.cat([Z[val_mask], X[val_mask]], dim=1)\n",
    "        test_x = torch.cat([Z[test_mask], X[test_mask]], dim=1)\n",
    "    else:\n",
    "        train_x = X[train_mask]\n",
    "        val_x = X[val_mask]\n",
    "        test_x = X[test_mask]\n",
    "    if log: print('train_X.shape', train_x.shape)\n",
    "\n",
    "    probs, val_probs = mlp_fit_predict(\n",
    "        train_x, train_y, test_x, val=(val_x, val_y), return_val_probs=True)\n",
    "    val_roc_auc = roc_auc_score(val_y.cpu().numpy(), val_probs)\n",
    "\n",
    "    if log: print('Validation ROC_AUC:', val_roc_auc)\n",
    "    return probs, val_roc_auc\n",
    "\n",
    "\n",
    "def n2v_fit_predict(edge_index, X, train_y, train_mask, val_y, val_mask, test_mask, epochs=100, log=False):\n",
    "    n2v = Node2Vec(edge_index, **PARAMS).to(DEVICE)\n",
    "    n2v_loader = n2v.loader(batch_size=128, shuffle=True, num_workers=0)\n",
    "    n2v_optimizer = optim.Adam(n2v.parameters(), lr=LR)\n",
    "\n",
    "    probs, val_roc_auc = train_epoch(\n",
    "        n2v, n2v_loader, n2v_optimizer, X, train_y, train_mask, val_y, val_mask, test_mask, epochs=epochs, log=log)\n",
    "\n",
    "    return probs\n"
   ]
  },
  {
   "cell_type": "markdown",
   "metadata": {
    "id": "L2bmY_k2KlE_"
   },
   "source": [
    "### Validate"
   ]
  },
  {
   "cell_type": "code",
   "execution_count": 20,
   "metadata": {
    "id": "8bXIozL_bC_x"
   },
   "outputs": [
    {
     "name": "stderr",
     "output_type": "stream",
     "text": [
      "5-fold: 100%|██████████████████████████████████████████████████████████████████████| 5/5 [03:28<00:00, 41.71s/it]\n"
     ]
    },
    {
     "data": {
      "text/html": [
       "<div>\n",
       "<style scoped>\n",
       "    .dataframe tbody tr th:only-of-type {\n",
       "        vertical-align: middle;\n",
       "    }\n",
       "\n",
       "    .dataframe tbody tr th {\n",
       "        vertical-align: top;\n",
       "    }\n",
       "\n",
       "    .dataframe thead th {\n",
       "        text-align: right;\n",
       "    }\n",
       "</style>\n",
       "<table border=\"1\" class=\"dataframe\">\n",
       "  <thead>\n",
       "    <tr style=\"text-align: right;\">\n",
       "      <th></th>\n",
       "      <th>Accuracy</th>\n",
       "      <th>BA</th>\n",
       "      <th>Sensitivity</th>\n",
       "      <th>Specificity</th>\n",
       "      <th>MCC</th>\n",
       "      <th>CM</th>\n",
       "    </tr>\n",
       "  </thead>\n",
       "  <tbody>\n",
       "    <tr>\n",
       "      <th>N2V</th>\n",
       "      <td>0.852129</td>\n",
       "      <td>0.840414</td>\n",
       "      <td>0.822652</td>\n",
       "      <td>0.858175</td>\n",
       "      <td>0.606434</td>\n",
       "      <td>[[614, 131], [433, 2636]]</td>\n",
       "    </tr>\n",
       "  </tbody>\n",
       "</table>\n",
       "</div>"
      ],
      "text/plain": [
       "     Accuracy        BA  Sensitivity  Specificity       MCC  \\\n",
       "N2V  0.852129  0.840414     0.822652     0.858175  0.606434   \n",
       "\n",
       "                            CM  \n",
       "N2V  [[614, 131], [433, 2636]]  "
      ]
     },
     "execution_count": 20,
     "metadata": {},
     "output_type": "execute_result"
    }
   ],
   "source": [
    "from sklearn.model_selection import StratifiedKFold, KFold, train_test_split\n",
    "from tqdm import tqdm\n",
    "from sklearn.metrics import *\n",
    "\n",
    "set_seed(1)\n",
    "DEVICE = torch.device('cuda' if torch.cuda.is_available() else 'cpu')\n",
    "NFOLDS = 5\n",
    "LR = 1e-2\n",
    "WEIGHT_DECAY = 5e-4\n",
    "EPOCHS = 50\n",
    "\n",
    "X = torch.tensor(x.to_numpy(), dtype=torch.float)\n",
    "kf = KFold(n_splits=NFOLDS)\n",
    "cma = np.array([[0,0],[0,0]])\n",
    "columns_names = [\"Accuracy\",\"BA\", \"Sensitivity\", \"Specificity\",\"MCC\", 'CM']\n",
    "scores = pd.DataFrame(columns=columns_names)\n",
    "mm = np.array([], dtype=np.int)\n",
    "predictions = np.array([])\n",
    "for fold, (train_index, test_idx) in enumerate(tqdm(kf.split(np.arange(len(X))), total=kf.get_n_splits(), desc=f\"{NFOLDS}-fold\")):\n",
    "    train_idx, val_idx = train_test_split(train_index, test_size=0.05, stratify=y[train_index])\n",
    "    mm = np.concatenate((mm, test_idx))\n",
    "    train_y = torch.tensor(y[train_idx], dtype=torch.float)\n",
    "    val_y = torch.tensor(y[val_idx], dtype=torch.float)\n",
    "    test_y = torch.tensor(y[test_idx], dtype=torch.float).to(DEVICE)\n",
    "    train_x = torch.tensor(X[train_idx], dtype=torch.float).to(DEVICE)\n",
    "    val_x = torch.tensor(X[val_idx], dtype=torch.float).to(DEVICE)\n",
    "    test_x = torch.tensor(X[test_idx], dtype=torch.float).to(DEVICE)\n",
    "    probs = n2v_fit_predict(edges_index, X, train_y, train_idx, val_y, val_idx, test_idx, epochs=EPOCHS, log=False)\n",
    "    preds = (probs > 0.5) * 1\n",
    "    predictions = np.concatenate((predictions, preds.ravel()))\n",
    "    cm = confusion_matrix(test_y.cpu().numpy(),preds)\n",
    "    cma += cm\n",
    "    scores = scores.append(pd.DataFrame([[accuracy_score(test_y.cpu().numpy(), preds), balanced_accuracy_score(test_y.cpu().numpy(), preds), \n",
    "        cm[0,0]/(cm[0,0]+cm[0,1]), cm[1,1]/(cm[1,0]+cm[1,1]), \n",
    "        matthews_corrcoef(test_y.cpu().numpy(), preds), cm]], columns=columns_names, index=[fold]))\n",
    "df_scores = pd.DataFrame(scores.mean(axis=0)).T\n",
    "df_scores.index=[f'N2V']\n",
    "df_scores['CM'] = [cma]\n",
    "df_scores"
   ]
  },
  {
   "cell_type": "markdown",
   "metadata": {
    "id": "8TsJPJYWVKWo"
   },
   "source": [
    "# Print predictions"
   ]
  },
  {
   "cell_type": "code",
   "execution_count": 21,
   "metadata": {
    "id": "t7Q2gF8t4p12"
   },
   "outputs": [
    {
     "data": {
      "text/html": [
       "<div>\n",
       "<style scoped>\n",
       "    .dataframe tbody tr th:only-of-type {\n",
       "        vertical-align: middle;\n",
       "    }\n",
       "\n",
       "    .dataframe tbody tr th {\n",
       "        vertical-align: top;\n",
       "    }\n",
       "\n",
       "    .dataframe thead th {\n",
       "        text-align: right;\n",
       "    }\n",
       "</style>\n",
       "<table border=\"1\" class=\"dataframe\">\n",
       "  <thead>\n",
       "    <tr style=\"text-align: right;\">\n",
       "      <th></th>\n",
       "      <th>CS0_vs_CS6-9</th>\n",
       "      <th>predictions</th>\n",
       "    </tr>\n",
       "    <tr>\n",
       "      <th>name</th>\n",
       "      <th></th>\n",
       "      <th></th>\n",
       "    </tr>\n",
       "  </thead>\n",
       "  <tbody>\n",
       "    <tr>\n",
       "      <th>ENSG00000001036</th>\n",
       "      <td>NE</td>\n",
       "      <td>NE</td>\n",
       "    </tr>\n",
       "    <tr>\n",
       "      <th>ENSG00000001461</th>\n",
       "      <td>NE</td>\n",
       "      <td>NE</td>\n",
       "    </tr>\n",
       "    <tr>\n",
       "      <th>ENSG00000001561</th>\n",
       "      <td>NE</td>\n",
       "      <td>NE</td>\n",
       "    </tr>\n",
       "    <tr>\n",
       "      <th>ENSG00000001630</th>\n",
       "      <td>NE</td>\n",
       "      <td>NE</td>\n",
       "    </tr>\n",
       "    <tr>\n",
       "      <th>ENSG00000001631</th>\n",
       "      <td>NE</td>\n",
       "      <td>NE</td>\n",
       "    </tr>\n",
       "    <tr>\n",
       "      <th>...</th>\n",
       "      <td>...</td>\n",
       "      <td>...</td>\n",
       "    </tr>\n",
       "    <tr>\n",
       "      <th>ENSG00000288283</th>\n",
       "      <td>NE</td>\n",
       "      <td>NE</td>\n",
       "    </tr>\n",
       "    <tr>\n",
       "      <th>ENSG00000288359</th>\n",
       "      <td>NE</td>\n",
       "      <td>NE</td>\n",
       "    </tr>\n",
       "    <tr>\n",
       "      <th>ENSG00000288407</th>\n",
       "      <td>NE</td>\n",
       "      <td>NE</td>\n",
       "    </tr>\n",
       "    <tr>\n",
       "      <th>ENSG00000288478</th>\n",
       "      <td>NE</td>\n",
       "      <td>NE</td>\n",
       "    </tr>\n",
       "    <tr>\n",
       "      <th>ENSG00000288503</th>\n",
       "      <td>E</td>\n",
       "      <td>E</td>\n",
       "    </tr>\n",
       "  </tbody>\n",
       "</table>\n",
       "<p>3814 rows × 2 columns</p>\n",
       "</div>"
      ],
      "text/plain": [
       "                CS0_vs_CS6-9 predictions\n",
       "name                                    \n",
       "ENSG00000001036           NE          NE\n",
       "ENSG00000001461           NE          NE\n",
       "ENSG00000001561           NE          NE\n",
       "ENSG00000001630           NE          NE\n",
       "ENSG00000001631           NE          NE\n",
       "...                      ...         ...\n",
       "ENSG00000288283           NE          NE\n",
       "ENSG00000288359           NE          NE\n",
       "ENSG00000288407           NE          NE\n",
       "ENSG00000288478           NE          NE\n",
       "ENSG00000288503            E           E\n",
       "\n",
       "[3814 rows x 2 columns]"
      ]
     },
     "execution_count": 21,
     "metadata": {},
     "output_type": "execute_result"
    }
   ],
   "source": [
    "p = np.zeros(len(y))\n",
    "p[mm] = predictions\n",
    "labels['predictions'] = ['NE' if x>0 else 'E' for x in p]\n",
    "labels"
   ]
  }
 ],
 "metadata": {
  "accelerator": "GPU",
  "colab": {
   "collapsed_sections": [],
   "name": "EssentialGenes_N2VMLP.ipynb",
   "provenance": [],
   "toc_visible": true
  },
  "interpreter": {
   "hash": "bc6e667b201477635ba32fc377e71e93fe0ce3fc2d2fb508931525558f52d375"
  },
  "kernelspec": {
   "display_name": "Python 3 (ipykernel)",
   "language": "python",
   "name": "python3"
  },
  "language_info": {
   "codemirror_mode": {
    "name": "ipython",
    "version": 3
   },
   "file_extension": ".py",
   "mimetype": "text/x-python",
   "name": "python",
   "nbconvert_exporter": "python",
   "pygments_lexer": "ipython3",
   "version": "3.10.9"
  }
 },
 "nbformat": 4,
 "nbformat_minor": 1
}
