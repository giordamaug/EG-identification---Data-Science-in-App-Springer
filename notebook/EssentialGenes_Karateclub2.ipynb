{
  "cells": [
    {
      "cell_type": "markdown",
      "metadata": {
        "id": "IfPQC9rUj1yg"
      },
      "source": [
        "[![Google Colab](https://colab.research.google.com/assets/colab-badge.svg)](https://colab.research.google.com/github/giordamaug/EG-identification---Data-Science-in-App-Springer/blob/main/notebook/EssentialGenes_Karateclub2.ipynb)\n",
        "[![Binder](https://mybinder.org/badge_logo.svg)](https://mybinder.org/v2/gh/giordamaug/EG-identification---Data-Science-in-App-Springer/main?filepath=notebook%2FEssentialGenes_Karateclub2.ipynb)"
      ]
    },
    {
      "cell_type": "markdown",
      "metadata": {
        "id": "MNgwF_IjTjNq"
      },
      "source": [
        "# Loading required libraries"
      ]
    },
    {
      "cell_type": "markdown",
      "metadata": {
        "id": "NgVRqVeuq5GN"
      },
      "source": [
        "### Install libraries"
      ]
    },
    {
      "cell_type": "code",
      "execution_count": null,
      "metadata": {
        "id": "90eWJsb5q9j0"
      },
      "outputs": [],
      "source": [
        "import sys\n",
        "IN_COLAB = 'google.colab' in sys.modules\n",
        "!pip install -q karateclub\n",
        "if not IN_COLAB:\n",
        "    !pip install -q pandas\n",
        "    !pip install -q sklearn\n",
        "    !pip install -q imblearn\n",
        "    !pip install -q xgboost\n",
        "    !pip install -q tqdm"
      ]
    },
    {
      "cell_type": "code",
      "execution_count": null,
      "metadata": {
        "id": "ddc1yRocTjNr"
      },
      "outputs": [],
      "source": [
        "import warnings\n",
        "warnings.filterwarnings('ignore')\n",
        "import random\n",
        "import numpy as np\n",
        "import pandas as pd\n",
        "def set_seed(seed=1):\n",
        "    random.seed(seed)\n",
        "    np.random.seed(seed)"
      ]
    },
    {
      "cell_type": "markdown",
      "metadata": {
        "id": "jwXYNEIFff-l"
      },
      "source": [
        "# Download dataset from Github"
      ]
    },
    {
      "cell_type": "code",
      "execution_count": null,
      "metadata": {
        "colab": {
          "base_uri": "https://localhost:8080/"
        },
        "id": "ykT1KO_4eqvK",
        "outputId": "1d7d46c2-a478-42a5-8351-7a2c54815cc0"
      },
      "outputs": [
        {
          "output_type": "stream",
          "name": "stdout",
          "text": [
            "--2022-05-13 13:39:48--  https://raw.githubusercontent.com/giordamaug/EG-identification---Data-Science-in-App-Springer/main/data/ppi+met_orig_idx.csv\n",
            "Resolving raw.githubusercontent.com (raw.githubusercontent.com)... 185.199.110.133, 185.199.111.133, 185.199.108.133, ...\n",
            "Connecting to raw.githubusercontent.com (raw.githubusercontent.com)|185.199.110.133|:443... connected.\n",
            "HTTP request sent, awaiting response... 200 OK\n",
            "Length: 16031696 (15M) [text/plain]\n",
            "Saving to: ‘ppi+met_orig_idx.csv.1’\n",
            "\n",
            "ppi+met_orig_idx.cs 100%[===================>]  15.29M  87.6MB/s    in 0.2s    \n",
            "\n",
            "2022-05-13 13:39:49 (87.6 MB/s) - ‘ppi+met_orig_idx.csv.1’ saved [16031696/16031696]\n",
            "\n",
            "--2022-05-13 13:39:49--  https://raw.githubusercontent.com/giordamaug/EG-identification---Data-Science-in-App-Springer/main/data/labels.csv\n",
            "Resolving raw.githubusercontent.com (raw.githubusercontent.com)... 185.199.108.133, 185.199.109.133, 185.199.110.133, ...\n",
            "Connecting to raw.githubusercontent.com (raw.githubusercontent.com)|185.199.108.133|:443... connected.\n",
            "HTTP request sent, awaiting response... 200 OK\n",
            "Length: 237495 (232K) [text/plain]\n",
            "Saving to: ‘labels.csv.3’\n",
            "\n",
            "labels.csv.3        100%[===================>] 231.93K  --.-KB/s    in 0.02s   \n",
            "\n",
            "2022-05-13 13:39:49 (9.40 MB/s) - ‘labels.csv.3’ saved [237495/237495]\n",
            "\n",
            "--2022-05-13 13:39:50--  https://raw.githubusercontent.com/giordamaug/EG-identification---Data-Science-in-App-Springer/main/data/bio_attributes.csv\n",
            "Resolving raw.githubusercontent.com (raw.githubusercontent.com)... 185.199.108.133, 185.199.109.133, 185.199.110.133, ...\n",
            "Connecting to raw.githubusercontent.com (raw.githubusercontent.com)|185.199.108.133|:443... connected.\n",
            "HTTP request sent, awaiting response... 200 OK\n",
            "Length: 1234495 (1.2M) [text/plain]\n",
            "Saving to: ‘bio_attributes.csv.3’\n",
            "\n",
            "bio_attributes.csv. 100%[===================>]   1.18M  --.-KB/s    in 0.05s   \n",
            "\n",
            "2022-05-13 13:39:50 (22.5 MB/s) - ‘bio_attributes.csv.3’ saved [1234495/1234495]\n",
            "\n",
            "--2022-05-13 13:39:50--  https://raw.githubusercontent.com/giordamaug/EG-identification---Data-Science-in-App-Springer/main/data/net_attributes.csv\n",
            "Resolving raw.githubusercontent.com (raw.githubusercontent.com)... 185.199.108.133, 185.199.109.133, 185.199.110.133, ...\n",
            "Connecting to raw.githubusercontent.com (raw.githubusercontent.com)|185.199.108.133|:443... connected.\n",
            "HTTP request sent, awaiting response... 200 OK\n",
            "Length: 2012067 (1.9M) [text/plain]\n",
            "Saving to: ‘net_attributes.csv.3’\n",
            "\n",
            "net_attributes.csv. 100%[===================>]   1.92M  --.-KB/s    in 0.06s   \n",
            "\n",
            "2022-05-13 13:39:50 (33.3 MB/s) - ‘net_attributes.csv.3’ saved [2012067/2012067]\n",
            "\n",
            "--2022-05-13 13:39:50--  https://raw.githubusercontent.com/giordamaug/EG-identification---Data-Science-in-App-Springer/main/data/gtex_attributes.csv\n",
            "Resolving raw.githubusercontent.com (raw.githubusercontent.com)... 185.199.111.133, 185.199.110.133, 185.199.108.133, ...\n",
            "Connecting to raw.githubusercontent.com (raw.githubusercontent.com)|185.199.111.133|:443... connected.\n",
            "HTTP request sent, awaiting response... 200 OK\n",
            "Length: 6882898 (6.6M) [text/plain]\n",
            "Saving to: ‘gtex_attributes.csv.3’\n",
            "\n",
            "gtex_attributes.csv 100%[===================>]   6.56M  --.-KB/s    in 0.1s    \n",
            "\n",
            "2022-05-13 13:39:51 (62.4 MB/s) - ‘gtex_attributes.csv.3’ saved [6882898/6882898]\n",
            "\n"
          ]
        }
      ],
      "source": [
        "!wget https://raw.githubusercontent.com/giordamaug/EG-identification---Data-Science-in-App-Springer/main/data/ppi+met_orig_idx.csv\n",
        "!wget https://raw.githubusercontent.com/giordamaug/EG-identification---Data-Science-in-App-Springer/main/data/labels.csv\n",
        "!wget https://raw.githubusercontent.com/giordamaug/EG-identification---Data-Science-in-App-Springer/main/data/bio_attributes.csv\n",
        "!wget https://raw.githubusercontent.com/giordamaug/EG-identification---Data-Science-in-App-Springer/main/data/net_attributes.csv\n",
        "!wget https://raw.githubusercontent.com/giordamaug/EG-identification---Data-Science-in-App-Springer/main/data/gtex_attributes.csv"
      ]
    },
    {
      "cell_type": "markdown",
      "metadata": {
        "id": "TqYLkDA1yW-K"
      },
      "source": [
        "# Load the label\n",
        "Only a subset of genes are selected for classification:\n",
        "+ genes belonging to CS0 group, that are labeled as Essential (E);\n",
        "+ genes belonging to CS6, CS7, ..., CS9 groups, that are labeled as Not-Essential (NE).\n",
        "\n",
        "All remaining genes belong to intermediate groups (CS1-CS5) and are considered undetermined (label ND) "
      ]
    },
    {
      "cell_type": "code",
      "execution_count": null,
      "metadata": {
        "id": "ahZH3I5SyW-K",
        "outputId": "f685c8d2-07b6-4a74-af4b-2b80b0c9997f",
        "colab": {
          "base_uri": "https://localhost:8080/"
        }
      },
      "outputs": [
        {
          "output_type": "stream",
          "name": "stdout",
          "text": [
            "Selected 12538 genes\n"
          ]
        }
      ],
      "source": [
        "labels = pd.read_csv(\"labels.csv\", index_col='name')\n",
        "#labels = labels[labels[\"CS0_vs_CS6-9\"].isin(['E', 'NE']) == True]       # drop any gene with undefined (ND) label\n",
        "genes = labels.index.values                                             # get genes with defined labels (E or NE)\n",
        "labels = labels.reset_index()                                           # reindex genes by consecutive integers\n",
        "labels['index'] = labels.index\n",
        "sub_index = labels[labels[\"CS0_vs_CS6-9\"].isin(['E', 'NE']) == True]['index'].values.   # indices of genes to be considered \n",
        "gene2idx_mapping = { v[1] : v[0]  for v in labels[['index', 'name']].values }           # create mapping index by gene name\n",
        "idx2gene_mapping = { v[0] : v[1]  for v in labels[['index', 'name']].values }           # create mapping index by gene name\n",
        "print(f'Selected {len(genes)} genes')"
      ]
    },
    {
      "cell_type": "markdown",
      "metadata": {
        "id": "Vmbko7ys1m-d"
      },
      "source": [
        "# Load attributes to be used\n",
        "We identified three sets of attributes:\n",
        "1. bio attributes, related to gene information (such as, expression, etc.)\n",
        "2. net attributes, derived from role of gene/node in the network (such as, degree, centrality, etc.)\n",
        "3. GTEX-* attribute, additional biological information of genes \n",
        "Based on user selection, the node attributes are appended in a single matrix of attributes (`x`)\n",
        "\n",
        "In the attribute matrix `x` there can be NaN or Infinite values. They are corrected as it follow:\n",
        "+ NaN is replaced by the mean in the attribute range, \n",
        "+ Infinte value is replaced by the maximum in the range.\n",
        "\n",
        "After Nan and Infinite values fixing, the attributes are normalized with Z-score or MinMax normalization functions.\n",
        "\n",
        "At the end, only nodes (genes) with E or NE labels are selected for the classification"
      ]
    },
    {
      "cell_type": "code",
      "execution_count": null,
      "metadata": {
        "colab": {
          "base_uri": "https://localhost:8080/"
        },
        "id": "e1eTV5Ky2R9_",
        "outputId": "90967701-7597-4f5f-e656-966eb43dfa13"
      },
      "outputs": [
        {
          "output_type": "stream",
          "name": "stdout",
          "text": [
            "Found 15705 NaN values and 0 Infinite values\n",
            "X attributes normalization (zscore)...\n",
            "New attribute matrix x(12538, 105)\n"
          ]
        }
      ],
      "source": [
        "#@title Choose attributes { form-width: \"20%\" }\n",
        "normalize_node = \"zscore\" #@param [\"\", \"zscore\", \"minmax\"]\n",
        "bio = True #@param {type:\"boolean\"}\n",
        "gtex = True #@param {type:\"boolean\"}\n",
        "net = False #@param {type:\"boolean\"}\n",
        "variable_name = \"bio\"\n",
        "bio_df = pd.read_csv(\"bio_attributes.csv\", index_col='name') if bio else pd.DataFrame()\n",
        "gtex_df = pd.read_csv(\"gtex_attributes.csv\", index_col='name') if gtex else pd.DataFrame()\n",
        "net_df = pd.read_csv(\"net_attributes.csv\", index_col='name') if net else pd.DataFrame()\n",
        "x = pd.concat([bio_df, gtex_df, net_df], axis=1)\n",
        "print(f'Found {x.isnull().sum().sum()} NaN values and {np.isinf(x).values.sum()} Infinite values')\n",
        "for col in x.columns[x.isna().any()].tolist():\n",
        "  mean_value=x[col].mean()          # Replace NaNs in column with the mean of values in the same column\n",
        "  if mean_value is not np.nan:\n",
        "    x[col].fillna(value=mean_value, inplace=True)\n",
        "  else:                             # otherwise, if the mean is NaN, remove the column\n",
        "    x = x.drop(col, 1)\n",
        "if normalize_node == 'minmax':\n",
        "  print(\"X attributes normalization (minmax)...\")\n",
        "  x = (x-x.min())/(x.max()-x.min())\n",
        "elif normalize_node == 'zscore':\n",
        "  print(\"X attributes normalization (zscore)...\")\n",
        "  x = (x-x.mean())/x.std()\n",
        "x[\"index\"] = x.index\n",
        "x = x.replace({\"index\": gene2idx_mapping})\n",
        "x = x.set_index('index')\n",
        "print(f'New attribute matrix x{x.shape}')"
      ]
    },
    {
      "cell_type": "markdown",
      "metadata": {
        "id": "KGZqjWBcmNM6"
      },
      "source": [
        "# Load the PPI+MET network\n",
        "The PPI networks is loaded from a CSV file, where\n",
        "*   `A` is the column name for edge source (gene index)\n",
        "*   `B` is the column name for edge target (gene index)\n",
        "*   `weight` is the column name for edge weight\n"
      ]
    },
    {
      "cell_type": "code",
      "source": [
        "import networkx as nx\n",
        "ppi = pd.read_csv('ppi+met_orig_idx.csv')                                      # read PPI+MET network from CSV file\n",
        "edge_list = [list(v) for v in list(ppi[['A','B', 'weight']].values)]      # get the edge list (with weights)\n",
        "G = nx.Graph()\n",
        "G.add_nodes_from(range(len(genes)))                                       # add all nodes (genes, also isolated ones)\n",
        "G.add_weighted_edges_from(edge_list)                                      # add all edges\n",
        "print(nx.info(G))\n",
        "print(f\"There are {len(list(nx.isolates(G)))} isolated genes\")"
      ],
      "metadata": {
        "id": "2Fwyph0ZlNKt",
        "outputId": "ceac3c19-616c-436c-a657-dd6d56ff4cea",
        "colab": {
          "base_uri": "https://localhost:8080/"
        }
      },
      "execution_count": null,
      "outputs": [
        {
          "output_type": "stream",
          "name": "stdout",
          "text": [
            "Graph with 12538 nodes and 1066252 edges\n",
            "There are 0 isolated genes\n"
          ]
        }
      ]
    },
    {
      "cell_type": "markdown",
      "metadata": {
        "id": "1xBzxp5CGq8Y"
      },
      "source": [
        "# Network embedding with Karateclub"
      ]
    },
    {
      "cell_type": "code",
      "execution_count": null,
      "metadata": {
        "id": "Yf3587q0Gq8Z"
      },
      "outputs": [],
      "source": [
        "import karateclub as kc\n",
        "params = {\"walk_number\": 10, \n",
        "          \"walk_length\": 80, \n",
        "          \"p\": 1.0, \n",
        "          \"q\": 1.0, \n",
        "          \"dimensions\": 128, \n",
        "          \"workers\": 4, \n",
        "          \"window_size\": 5, \n",
        "          \"epochs\": 1, \n",
        "          \"learning_rate\": 0.05, \n",
        "          \"min_count\": 1, \n",
        "          \"seed\": 42}\n",
        "n2v = kc.Node2Vec(**params)\n",
        "n2v.fit(G)\n",
        "embedding = n2v.get_embedding()\n",
        "embedding_df = pd.DataFrame(embedding, columns = ['N2V_' + str(i + 1)  for i in range(embedding.shape[1])])\n",
        "x = pd.concat([embedding_df, x], axis=1)"
      ]
    },
    {
      "cell_type": "markdown",
      "source": [
        "## Select E/NE genes in attribute matrix and labels"
      ],
      "metadata": {
        "id": "UQw7BW3QqFAZ"
      }
    },
    {
      "cell_type": "code",
      "source": [
        "x = x.loc[sub_index]\n",
        "labels = labels.loc[sub_index]"
      ],
      "metadata": {
        "id": "KY0jpiknqOlB"
      },
      "execution_count": null,
      "outputs": []
    },
    {
      "cell_type": "markdown",
      "metadata": {
        "id": "2DzCmBgbj1yn"
      },
      "source": [
        "## Encode the labels\n",
        "String labels E and Ne are respectively encoded to 0 and 1.\n",
        "The array `y` containes numeric labels of genes."
      ]
    },
    {
      "cell_type": "code",
      "execution_count": null,
      "metadata": {
        "colab": {
          "base_uri": "https://localhost:8080/"
        },
        "id": "mBkOf7R0j1yo",
        "outputId": "0409cca5-5a46-46c4-8761-61ed8abf3e51"
      },
      "outputs": [
        {
          "output_type": "stream",
          "name": "stdout",
          "text": [
            "{'E': 0, 'NE': 1} Counter({1: 3069, 0: 745})\n"
          ]
        }
      ],
      "source": [
        "from sklearn import preprocessing\n",
        "from collections import Counter\n",
        "encoder = preprocessing.LabelEncoder()\n",
        "y = encoder.fit_transform(labels['CS0_vs_CS6-9'].values)  \n",
        "classes_mapping = dict(zip(encoder.classes_, encoder.transform(encoder.classes_)))\n",
        "print(classes_mapping, Counter(y))"
      ]
    },
    {
      "cell_type": "markdown",
      "metadata": {
        "id": "HAkzHzMYbAQh"
      },
      "source": [
        "# k-fold cross validation"
      ]
    },
    {
      "cell_type": "markdown",
      "metadata": {
        "id": "L2bmY_k2KlE_"
      },
      "source": [
        "### Validate"
      ]
    },
    {
      "cell_type": "code",
      "execution_count": null,
      "metadata": {
        "id": "8bXIozL_bC_x",
        "outputId": "d6d67ebc-d4a2-491b-d404-28ab59892fb5",
        "colab": {
          "base_uri": "https://localhost:8080/",
          "height": 97
        }
      },
      "outputs": [
        {
          "output_type": "stream",
          "name": "stderr",
          "text": [
            "5-fold: 100%|██████████| 5/5 [00:10<00:00,  2.06s/it]\n"
          ]
        },
        {
          "output_type": "execute_result",
          "data": {
            "text/plain": [
              "     Accuracy        BA  Sensitivity  Specificity       MCC  \\\n",
              "XGB  0.888574  0.785068     0.615614     0.954521  0.623258   \n",
              "\n",
              "                            CM  \n",
              "XGB  [[459, 286], [139, 2930]]  "
            ],
            "text/html": [
              "\n",
              "  <div id=\"df-47babca6-c4ca-4268-8858-ea43aebf30cc\">\n",
              "    <div class=\"colab-df-container\">\n",
              "      <div>\n",
              "<style scoped>\n",
              "    .dataframe tbody tr th:only-of-type {\n",
              "        vertical-align: middle;\n",
              "    }\n",
              "\n",
              "    .dataframe tbody tr th {\n",
              "        vertical-align: top;\n",
              "    }\n",
              "\n",
              "    .dataframe thead th {\n",
              "        text-align: right;\n",
              "    }\n",
              "</style>\n",
              "<table border=\"1\" class=\"dataframe\">\n",
              "  <thead>\n",
              "    <tr style=\"text-align: right;\">\n",
              "      <th></th>\n",
              "      <th>Accuracy</th>\n",
              "      <th>BA</th>\n",
              "      <th>Sensitivity</th>\n",
              "      <th>Specificity</th>\n",
              "      <th>MCC</th>\n",
              "      <th>CM</th>\n",
              "    </tr>\n",
              "  </thead>\n",
              "  <tbody>\n",
              "    <tr>\n",
              "      <th>XGB</th>\n",
              "      <td>0.888574</td>\n",
              "      <td>0.785068</td>\n",
              "      <td>0.615614</td>\n",
              "      <td>0.954521</td>\n",
              "      <td>0.623258</td>\n",
              "      <td>[[459, 286], [139, 2930]]</td>\n",
              "    </tr>\n",
              "  </tbody>\n",
              "</table>\n",
              "</div>\n",
              "      <button class=\"colab-df-convert\" onclick=\"convertToInteractive('df-47babca6-c4ca-4268-8858-ea43aebf30cc')\"\n",
              "              title=\"Convert this dataframe to an interactive table.\"\n",
              "              style=\"display:none;\">\n",
              "        \n",
              "  <svg xmlns=\"http://www.w3.org/2000/svg\" height=\"24px\"viewBox=\"0 0 24 24\"\n",
              "       width=\"24px\">\n",
              "    <path d=\"M0 0h24v24H0V0z\" fill=\"none\"/>\n",
              "    <path d=\"M18.56 5.44l.94 2.06.94-2.06 2.06-.94-2.06-.94-.94-2.06-.94 2.06-2.06.94zm-11 1L8.5 8.5l.94-2.06 2.06-.94-2.06-.94L8.5 2.5l-.94 2.06-2.06.94zm10 10l.94 2.06.94-2.06 2.06-.94-2.06-.94-.94-2.06-.94 2.06-2.06.94z\"/><path d=\"M17.41 7.96l-1.37-1.37c-.4-.4-.92-.59-1.43-.59-.52 0-1.04.2-1.43.59L10.3 9.45l-7.72 7.72c-.78.78-.78 2.05 0 2.83L4 21.41c.39.39.9.59 1.41.59.51 0 1.02-.2 1.41-.59l7.78-7.78 2.81-2.81c.8-.78.8-2.07 0-2.86zM5.41 20L4 18.59l7.72-7.72 1.47 1.35L5.41 20z\"/>\n",
              "  </svg>\n",
              "      </button>\n",
              "      \n",
              "  <style>\n",
              "    .colab-df-container {\n",
              "      display:flex;\n",
              "      flex-wrap:wrap;\n",
              "      gap: 12px;\n",
              "    }\n",
              "\n",
              "    .colab-df-convert {\n",
              "      background-color: #E8F0FE;\n",
              "      border: none;\n",
              "      border-radius: 50%;\n",
              "      cursor: pointer;\n",
              "      display: none;\n",
              "      fill: #1967D2;\n",
              "      height: 32px;\n",
              "      padding: 0 0 0 0;\n",
              "      width: 32px;\n",
              "    }\n",
              "\n",
              "    .colab-df-convert:hover {\n",
              "      background-color: #E2EBFA;\n",
              "      box-shadow: 0px 1px 2px rgba(60, 64, 67, 0.3), 0px 1px 3px 1px rgba(60, 64, 67, 0.15);\n",
              "      fill: #174EA6;\n",
              "    }\n",
              "\n",
              "    [theme=dark] .colab-df-convert {\n",
              "      background-color: #3B4455;\n",
              "      fill: #D2E3FC;\n",
              "    }\n",
              "\n",
              "    [theme=dark] .colab-df-convert:hover {\n",
              "      background-color: #434B5C;\n",
              "      box-shadow: 0px 1px 3px 1px rgba(0, 0, 0, 0.15);\n",
              "      filter: drop-shadow(0px 1px 2px rgba(0, 0, 0, 0.3));\n",
              "      fill: #FFFFFF;\n",
              "    }\n",
              "  </style>\n",
              "\n",
              "      <script>\n",
              "        const buttonEl =\n",
              "          document.querySelector('#df-47babca6-c4ca-4268-8858-ea43aebf30cc button.colab-df-convert');\n",
              "        buttonEl.style.display =\n",
              "          google.colab.kernel.accessAllowed ? 'block' : 'none';\n",
              "\n",
              "        async function convertToInteractive(key) {\n",
              "          const element = document.querySelector('#df-47babca6-c4ca-4268-8858-ea43aebf30cc');\n",
              "          const dataTable =\n",
              "            await google.colab.kernel.invokeFunction('convertToInteractive',\n",
              "                                                     [key], {});\n",
              "          if (!dataTable) return;\n",
              "\n",
              "          const docLinkHtml = 'Like what you see? Visit the ' +\n",
              "            '<a target=\"_blank\" href=https://colab.research.google.com/notebooks/data_table.ipynb>data table notebook</a>'\n",
              "            + ' to learn more about interactive tables.';\n",
              "          element.innerHTML = '';\n",
              "          dataTable['output_type'] = 'display_data';\n",
              "          await google.colab.output.renderOutput(dataTable, element);\n",
              "          const docLink = document.createElement('div');\n",
              "          docLink.innerHTML = docLinkHtml;\n",
              "          element.appendChild(docLink);\n",
              "        }\n",
              "      </script>\n",
              "    </div>\n",
              "  </div>\n",
              "  "
            ]
          },
          "metadata": {},
          "execution_count": 27
        }
      ],
      "source": [
        "#@title Choose classifier { run: \"auto\", form-width: \"20%\" }\n",
        "method = \"XGB\" #@param [\"SVM\", \"XGB\", \"RF\", \"MLP\", \"RUS\", \"DUMMY\"]\n",
        "from sklearn.svm import SVC\n",
        "from sklearn.ensemble import RandomForestClassifier\n",
        "from sklearn.compose import make_column_transformer\n",
        "from sklearn.pipeline import make_pipeline\n",
        "from sklearn.compose import make_column_selector as selector\n",
        "from imblearn.ensemble import BalancedRandomForestClassifier\n",
        "from sklearn.neural_network import MLPClassifier\n",
        "import sys\n",
        "from xgboost import XGBClassifier\n",
        "from sklearn.model_selection import StratifiedKFold, KFold, train_test_split\n",
        "from tqdm import tqdm\n",
        "from sklearn.metrics import *\n",
        "from sklearn.ensemble import AdaBoostClassifier\n",
        "from imblearn.ensemble import RUSBoostClassifier\n",
        "from sklearn.dummy import DummyClassifier\n",
        "seed=1\n",
        "set_seed(seed)\n",
        "nfolds = 5\n",
        "kf = KFold(n_splits=nfolds)\n",
        "accuracies, mccs = [], []\n",
        "cm = [[0,0],[0,0]]\n",
        "X = x.to_numpy()\n",
        "\n",
        "if method == 'SVM':\n",
        "  clf = SVC(random_state=seed, probability=True)\n",
        "elif method == 'MLP':\n",
        "  clf = MLPClassifier(random_state=seed)\n",
        "elif method == 'RF':\n",
        "  clf = RandomForestClassifier(random_state=seed)\n",
        "elif method == 'XGB':\n",
        "  clf = XGBClassifier(random_state=seed)\n",
        "elif method == 'RUS':\n",
        "  clf = RUSBoostClassifier(random_state=seed)\n",
        "else:\n",
        "  raise ValueError(\"Method not implemented!\")\n",
        "\n",
        "cma = np.array([[0,0],[0,0]])\n",
        "mm = np.array([], dtype=np.int)\n",
        "predictions = np.array([])\n",
        "columns_names = [\"Accuracy\",\"BA\", \"Sensitivity\", \"Specificity\",\"MCC\", 'CM']\n",
        "scores = pd.DataFrame(columns=columns_names)\n",
        "for fold, (train_idx, test_idx) in enumerate(tqdm(kf.split(np.arange(len(X))), total=kf.get_n_splits(), desc=f\"{nfolds}-fold\")):\n",
        "    train_x, train_y, test_x, test_y = X[train_idx], y[train_idx], X[test_idx], y[test_idx],\n",
        "    mm = np.concatenate((mm, test_idx))\n",
        "    probs = clf.fit(train_x, train_y).predict(test_x)\n",
        "    preds = (probs > 0.5) * 1\n",
        "    cm = confusion_matrix(test_y, preds)\n",
        "    cma += cm\n",
        "    predictions = np.concatenate((predictions, preds))\n",
        "    scores = scores.append(pd.DataFrame([[accuracy_score(test_y, preds), balanced_accuracy_score(test_y, preds), \n",
        "        cm[0,0]/(cm[0,0]+cm[0,1]), cm[1,1]/(cm[1,0]+cm[1,1]), \n",
        "        matthews_corrcoef(test_y, preds), cm]], columns=columns_names, index=[fold]))\n",
        "df_scores = pd.DataFrame(scores.mean(axis=0)).T\n",
        "df_scores.index=[f'{method}']\n",
        "df_scores['CM'] = [cma]\n",
        "df_scores"
      ]
    },
    {
      "cell_type": "markdown",
      "metadata": {
        "id": "8TsJPJYWVKWo"
      },
      "source": [
        "# Print predictions"
      ]
    },
    {
      "cell_type": "code",
      "execution_count": null,
      "metadata": {
        "id": "t7Q2gF8t4p12"
      },
      "outputs": [],
      "source": [
        "p = np.zeros(len(y))\n",
        "p[mm] = predictions\n",
        "labels['predictions'] = ['NE' if x>0 else 'E' for x in p]\n",
        "labels"
      ]
    }
  ],
  "metadata": {
    "accelerator": "GPU",
    "colab": {
      "collapsed_sections": [],
      "name": "EssentialGenes_Karateclub2.ipynb",
      "provenance": []
    },
    "interpreter": {
      "hash": "bc6e667b201477635ba32fc377e71e93fe0ce3fc2d2fb508931525558f52d375"
    },
    "kernelspec": {
      "display_name": "Python 3.8.3 ('base')",
      "language": "python",
      "name": "python3"
    },
    "language_info": {
      "codemirror_mode": {
        "name": "ipython",
        "version": 3
      },
      "file_extension": ".py",
      "mimetype": "text/x-python",
      "name": "python",
      "nbconvert_exporter": "python",
      "pygments_lexer": "ipython3",
      "version": "3.8.3"
    }
  },
  "nbformat": 4,
  "nbformat_minor": 0
}