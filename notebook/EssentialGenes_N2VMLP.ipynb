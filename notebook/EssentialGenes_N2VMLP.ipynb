{
  "cells": [
    {
      "cell_type": "markdown",
      "metadata": {
        "id": "IfPQC9rUj1yg"
      },
      "source": [
        "[![Google Colab](https://colab.research.google.com/assets/colab-badge.svg)](https://colab.research.google.com/github/giordamaug/EG-identification---Data-Science-in-App-Springer/blob/main/notebook/EssentialGenes_N2VMLP.ipynb)\n",
        "[![Binder](https://mybinder.org/badge_logo.svg)](https://mybinder.org/v2/gh/giordamaug/EG-identification---Data-Science-in-App-Springer/main?filepath=notebook%2FEssentialGenes_N2VMLP.ipynb)"
      ]
    },
    {
      "cell_type": "markdown",
      "metadata": {
        "id": "MNgwF_IjTjNq"
      },
      "source": [
        "# Loading required libraries"
      ]
    },
    {
      "cell_type": "markdown",
      "metadata": {
        "id": "NgVRqVeuq5GN"
      },
      "source": [
        "### Install Pytorch libraries"
      ]
    },
    {
      "cell_type": "code",
      "execution_count": 2,
      "metadata": {
        "id": "90eWJsb5q9j0"
      },
      "outputs": [],
      "source": [
        "import sys\n",
        "IN_COLAB = 'google.colab' in sys.modules\n",
        "if not IN_COLAB:\n",
        "    !pip install -q pandas\n",
        "    !pip install -q pandas\n",
        "    !pip install -q sklearn\n",
        "    !pip install -q imblearn\n",
        "    !pip install -q xgboost\n",
        "    !pip install -q tqdm\n",
        "    !pip install -q torch\n",
        "    \n",
        "import torch\n",
        "\n",
        "def format_pytorch_version(version):\n",
        "  return version.split('+')[0]\n",
        "\n",
        "TORCH_version = torch.__version__\n",
        "TORCH = format_pytorch_version(TORCH_version)\n",
        "\n",
        "def format_cuda_version(version):\n",
        "  return 'cu' + version.replace('.', '')\n",
        "\n",
        "CUDA_version = torch.version.cuda\n",
        "CUDA = format_cuda_version(CUDA_version)\n",
        "\n",
        "!pip install torch-scatter     -f https://pytorch-geometric.com/whl/torch-{TORCH}+{CUDA}.html\n",
        "!pip install torch-sparse      -f https://pytorch-geometric.com/whl/torch-{TORCH}+{CUDA}.html\n",
        "!pip install torch-cluster     -f https://pytorch-geometric.com/whl/torch-{TORCH}+{CUDA}.html\n",
        "!pip install torch-spline-conv -f https://pytorch-geometric.com/whl/torch-{TORCH}+{CUDA}.html\n",
        "!pip install torch-geometric "
      ]
    },
    {
      "cell_type": "code",
      "execution_count": 6,
      "metadata": {
        "id": "ddc1yRocTjNr"
      },
      "outputs": [],
      "source": [
        "import warnings\n",
        "warnings.filterwarnings('ignore')\n",
        "import random\n",
        "import numpy as np\n",
        "import pandas as pd\n",
        "import torch\n",
        "def set_seed(seed=1):\n",
        "    random.seed(seed)\n",
        "    np.random.seed(seed)\n",
        "    torch.manual_seed(seed)\n",
        "    if torch.cuda.is_available():\n",
        "        torch.cuda.manual_seed(seed)"
      ]
    },
    {
      "cell_type": "markdown",
      "metadata": {
        "id": "jwXYNEIFff-l"
      },
      "source": [
        "# Download dataset from Github"
      ]
    },
    {
      "cell_type": "code",
      "execution_count": 4,
      "metadata": {
        "colab": {
          "base_uri": "https://localhost:8080/"
        },
        "id": "ykT1KO_4eqvK",
        "outputId": "75c2c1dd-52f1-4c0d-e1f4-8393575b0887"
      },
      "outputs": [
        {
          "name": "stdout",
          "output_type": "stream",
          "text": [
            "--2022-05-04 10:15:22--  https://raw.githubusercontent.com/giordamaug/EG-identification---Data-Science-in-App-Springer/main/data/ppi.csv\n",
            "Resolving raw.githubusercontent.com (raw.githubusercontent.com)... 185.199.111.133, 185.199.110.133, 185.199.108.133, ...\n",
            "Connecting to raw.githubusercontent.com (raw.githubusercontent.com)|185.199.111.133|:443... connected.\n",
            "HTTP request sent, awaiting response... 200 OK\n",
            "Length: 3966521 (3.8M) [text/plain]\n",
            "Saving to: ‘ppi.csv’\n",
            "\n",
            "ppi.csv             100%[===================>]   3.78M  --.-KB/s    in 0.07s   \n",
            "\n",
            "2022-05-04 10:15:22 (55.4 MB/s) - ‘ppi.csv’ saved [3966521/3966521]\n",
            "\n",
            "--2022-05-04 10:15:22--  https://raw.githubusercontent.com/giordamaug/EG-identification---Data-Science-in-App-Springer/main/data/labels.csv\n",
            "Resolving raw.githubusercontent.com (raw.githubusercontent.com)... 185.199.108.133, 185.199.109.133, 185.199.110.133, ...\n",
            "Connecting to raw.githubusercontent.com (raw.githubusercontent.com)|185.199.108.133|:443... connected.\n",
            "HTTP request sent, awaiting response... 200 OK\n",
            "Length: 237495 (232K) [text/plain]\n",
            "Saving to: ‘labels.csv’\n",
            "\n",
            "labels.csv          100%[===================>] 231.93K  --.-KB/s    in 0.02s   \n",
            "\n",
            "2022-05-04 10:15:23 (9.28 MB/s) - ‘labels.csv’ saved [237495/237495]\n",
            "\n",
            "--2022-05-04 10:15:23--  https://raw.githubusercontent.com/giordamaug/EG-identification---Data-Science-in-App-Springer/main/data/bio_attributes.csv\n",
            "Resolving raw.githubusercontent.com (raw.githubusercontent.com)... 185.199.108.133, 185.199.110.133, 185.199.109.133, ...\n",
            "Connecting to raw.githubusercontent.com (raw.githubusercontent.com)|185.199.108.133|:443... connected.\n",
            "HTTP request sent, awaiting response... 200 OK\n",
            "Length: 1234495 (1.2M) [text/plain]\n",
            "Saving to: ‘bio_attributes.csv’\n",
            "\n",
            "bio_attributes.csv  100%[===================>]   1.18M  --.-KB/s    in 0.05s   \n",
            "\n",
            "2022-05-04 10:15:23 (22.5 MB/s) - ‘bio_attributes.csv’ saved [1234495/1234495]\n",
            "\n",
            "--2022-05-04 10:15:23--  https://raw.githubusercontent.com/giordamaug/EG-identification---Data-Science-in-App-Springer/main/data/net_attributes.csv\n",
            "Resolving raw.githubusercontent.com (raw.githubusercontent.com)... 185.199.110.133, 185.199.109.133, 185.199.111.133, ...\n",
            "Connecting to raw.githubusercontent.com (raw.githubusercontent.com)|185.199.110.133|:443... connected.\n",
            "HTTP request sent, awaiting response... 200 OK\n",
            "Length: 2012067 (1.9M) [text/plain]\n",
            "Saving to: ‘net_attributes.csv’\n",
            "\n",
            "net_attributes.csv  100%[===================>]   1.92M  --.-KB/s    in 0.06s   \n",
            "\n",
            "2022-05-04 10:15:23 (33.4 MB/s) - ‘net_attributes.csv’ saved [2012067/2012067]\n",
            "\n",
            "--2022-05-04 10:15:23--  https://raw.githubusercontent.com/giordamaug/EG-identification---Data-Science-in-App-Springer/main/data/gtex_attributes.csv\n",
            "Resolving raw.githubusercontent.com (raw.githubusercontent.com)... 185.199.108.133, 185.199.109.133, 185.199.110.133, ...\n",
            "Connecting to raw.githubusercontent.com (raw.githubusercontent.com)|185.199.108.133|:443... connected.\n",
            "HTTP request sent, awaiting response... 200 OK\n",
            "Length: 6882898 (6.6M) [text/plain]\n",
            "Saving to: ‘gtex_attributes.csv’\n",
            "\n",
            "gtex_attributes.csv 100%[===================>]   6.56M  --.-KB/s    in 0.08s   \n",
            "\n",
            "2022-05-04 10:15:24 (81.8 MB/s) - ‘gtex_attributes.csv’ saved [6882898/6882898]\n",
            "\n"
          ]
        }
      ],
      "source": [
        "!wget https://raw.githubusercontent.com/giordamaug/EG-identification---Data-Science-in-App-Springer/main/data/ppi.csv\n",
        "!wget https://raw.githubusercontent.com/giordamaug/EG-identification---Data-Science-in-App-Springer/main/data/labels.csv\n",
        "!wget https://raw.githubusercontent.com/giordamaug/EG-identification---Data-Science-in-App-Springer/main/data/bio_attributes.csv\n",
        "!wget https://raw.githubusercontent.com/giordamaug/EG-identification---Data-Science-in-App-Springer/main/data/net_attributes.csv\n",
        "!wget https://raw.githubusercontent.com/giordamaug/EG-identification---Data-Science-in-App-Springer/main/data/gtex_attributes.csv"
      ]
    },
    {
      "cell_type": "markdown",
      "metadata": {
        "id": "TqYLkDA1yW-K"
      },
      "source": [
        "# Load the label\n",
        "Only a subset of genes are selected for classification:\n",
        "+ genes belonging to CS0 group, that are labeled as Essential (E);\n",
        "+ genes belonging to CS6, CS7, ..., CS9 groups, that are labeled as Not-Essential (NE).\n",
        "\n",
        "All remaining genes belong to intermediate groups (CS1-CS5) and are considered undetermined (label ND) "
      ]
    },
    {
      "cell_type": "code",
      "execution_count": 7,
      "metadata": {
        "colab": {
          "base_uri": "https://localhost:8080/"
        },
        "id": "ahZH3I5SyW-K",
        "outputId": "5ab95e5a-e602-49b3-dd02-5abdf20d3f0c"
      },
      "outputs": [
        {
          "name": "stdout",
          "output_type": "stream",
          "text": [
            "Selected 3814 genes\n"
          ]
        }
      ],
      "source": [
        "labels = pd.read_csv(\"labels.csv\", index_col='name')\n",
        "labels = labels[labels[\"CS0_vs_CS6-9\"].isin(['E', 'NE']) == True]       # drop any gene with undefined (ND) label\n",
        "genes = labels.index.values                                             # get genes with defined labels (E or NE)\n",
        "print(f'Selected {len(genes)} genes')"
      ]
    },
    {
      "cell_type": "markdown",
      "metadata": {
        "id": "2DzCmBgbj1yn"
      },
      "source": [
        "## Encode the labels\n",
        "String labels E and Ne are respectively encoded to 0 and 1.\n",
        "The array `y` containes numeric labels of genes."
      ]
    },
    {
      "cell_type": "code",
      "execution_count": 8,
      "metadata": {
        "colab": {
          "base_uri": "https://localhost:8080/"
        },
        "id": "mBkOf7R0j1yo",
        "outputId": "bce09d0f-1fbd-4a35-aa65-4257c54d19f6"
      },
      "outputs": [
        {
          "name": "stdout",
          "output_type": "stream",
          "text": [
            "{'E': 0, 'NE': 1} Counter({1: 3069, 0: 745})\n"
          ]
        }
      ],
      "source": [
        "from sklearn import preprocessing\n",
        "from collections import Counter\n",
        "encoder = preprocessing.LabelEncoder()\n",
        "y = encoder.fit_transform(labels['CS0_vs_CS6-9'].values)  \n",
        "classes_mapping = dict(zip(encoder.classes_, encoder.transform(encoder.classes_)))\n",
        "print(classes_mapping, Counter(y))"
      ]
    },
    {
      "cell_type": "markdown",
      "metadata": {
        "id": "Vmbko7ys1m-d"
      },
      "source": [
        "# Load attributes to be used\n",
        "We identified three sets of attributes:\n",
        "1. bio attributes, related to gene information (such as, expression, etc.)\n",
        "2. net attributes, derived from role of gene/node in the network (such as, degree, centrality, etc.)\n",
        "3. GTEX-* attribute, additional biological information of genes \n",
        "Based on user selection, the node attributes are appended in a single matrix of attributes (`x`)\n",
        "\n",
        "In the attribute matrix `x` there can be NaN or Infinite values. They are corrected as it follow:\n",
        "+ NaN is replaced by the mean in the attribute range, \n",
        "+ Infinte value is replaced by the maximum in the range.\n",
        "\n",
        "After Nan and Infinite values fixing, the attributes are normalized with Z-score or MinMax normalization functions.\n",
        "\n",
        "At the end, only nodes (genes) with E or NE labels are selected for the classification"
      ]
    },
    {
      "cell_type": "code",
      "execution_count": 9,
      "metadata": {
        "colab": {
          "base_uri": "https://localhost:8080/"
        },
        "id": "e1eTV5Ky2R9_",
        "outputId": "8be77c93-6bb6-491a-e287-125cc4f8419d"
      },
      "outputs": [
        {
          "name": "stdout",
          "output_type": "stream",
          "text": [
            "Found 15919 NaN values and 0 Infinite values\n",
            "X attributes normalization (zscore)...\n",
            "New attribute matrix x(3814, 119)\n"
          ]
        }
      ],
      "source": [
        "#@title Choose attributes { form-width: \"20%\" }\n",
        "normalize_node = \"zscore\" #@param [\"\", \"zscore\", \"minmax\"]\n",
        "bio = True #@param {type:\"boolean\"}\n",
        "gtex = True #@param {type:\"boolean\"}\n",
        "net = True #@param {type:\"boolean\"}\n",
        "variable_name = \"bio\"\n",
        "bio_df = pd.read_csv(\"bio_attributes.csv\", index_col='name') if bio else pd.DataFrame()\n",
        "gtex_df = pd.read_csv(\"gtex_attributes.csv\", index_col='name') if gtex else pd.DataFrame()\n",
        "net_df = pd.read_csv(\"net_attributes.csv\", index_col='name') if net else pd.DataFrame()\n",
        "x = pd.concat([bio_df, gtex_df, net_df], axis=1)\n",
        "print(f'Found {x.isnull().sum().sum()} NaN values and {np.isinf(x).values.sum()} Infinite values')\n",
        "for col in x.columns[x.isna().any()].tolist():\n",
        "  mean_value=x[col].mean()          # Replace NaNs in column with the mean of values in the same column\n",
        "  if mean_value is not np.nan:\n",
        "    x[col].fillna(value=mean_value, inplace=True)\n",
        "  else:                             # otherwise, if the mean is NaN, remove the column\n",
        "    x = x.drop(col, 1)\n",
        "if normalize_node == 'minmax':\n",
        "  print(\"X attributes normalization (minmax)...\")\n",
        "  x = (x-x.min())/(x.max()-x.min())\n",
        "elif normalize_node == 'zscore':\n",
        "  print(\"X attributes normalization (zscore)...\")\n",
        "  x = (x-x.mean())/x.std()\n",
        "x = x.loc[genes]\n",
        "print(f'New attribute matrix x{x.shape}')"
      ]
    },
    {
      "cell_type": "markdown",
      "metadata": {
        "id": "KGZqjWBcmNM6"
      },
      "source": [
        "# Load the PPI+MET network\n",
        "The PPI networks is loaded from a CSV file, where\n",
        "*   `A` is the column name for edge source (gene name)\n",
        "*   `B` is the column name for edge target (gene name)\n",
        "*   `weight` is the column name for edge weight\n",
        "Only some method use the PPI netoworks, as an example all GCN methods, and Node2Vec.\n",
        "\n",
        "The PPI+MET network is reduced by removing genes with undetermined labels"
      ]
    },
    {
      "cell_type": "code",
      "execution_count": 12,
      "metadata": {
        "id": "ku9EUnJfmMF4"
      },
      "outputs": [],
      "source": [
        "ppi = pd.read_csv('ppi.csv')                                               # read PPI+MET network from CSV file\n",
        "ppi = ppi.loc[((ppi['A'].isin(genes)) & (ppi['B'].isin(genes)))]           # reduce network only to selected nodes/genes\n",
        "idxlbl = labels.reset_index(drop=True)\n",
        "idxlbl['name'] = labels.index\n",
        "map_gene_to_idx = { v['name']: i  for i,v in idxlbl.to_dict('Index').items() }\n",
        "vfunc = np.vectorize(lambda t: map_gene_to_idx[t])\n",
        "edges_index = torch.from_numpy(vfunc(ppi[['A','B']].to_numpy().T)) "
      ]
    },
    {
      "cell_type": "markdown",
      "metadata": {
        "id": "HAkzHzMYbAQh"
      },
      "source": [
        "# k-fold cross validation with Node2Vec"
      ]
    },
    {
      "cell_type": "markdown",
      "metadata": {
        "id": "ulCMrjlowPPa"
      },
      "source": [
        "### MLP model"
      ]
    },
    {
      "cell_type": "code",
      "execution_count": 13,
      "metadata": {
        "id": "6-JS-m1wwR49"
      },
      "outputs": [],
      "source": [
        "import torch\n",
        "import torch.nn as nn\n",
        "import torch.nn.functional as F\n",
        "import torch.optim as optim\n",
        "DEVICE = torch.device('cuda' if torch.cuda.is_available() else 'cpu')\n",
        "\n",
        "class Loss():\n",
        "    def __init__(self, y):\n",
        "        self.y = y\n",
        "        self.pos_mask = y == 1\n",
        "        self.neg_mask = y == 0\n",
        "\n",
        "    def __call__(self, out):\n",
        "        pos_mask = self.pos_mask\n",
        "        neg_mask = self.neg_mask\n",
        "        loss_p = F.binary_cross_entropy_with_logits(\n",
        "            out[pos_mask].squeeze(), self.y[self.pos_mask].to(DEVICE))\n",
        "        loss_n = F.binary_cross_entropy_with_logits(\n",
        "            out[neg_mask].squeeze(), self.y[neg_mask].to(DEVICE))\n",
        "        loss = loss_p + loss_n\n",
        "        return loss\n",
        "\n",
        "def mlp_fit_predict(train_x, train_y, test_x, val=None, return_val_probs=False, log=False):\n",
        "    epochs = 1000\n",
        "\n",
        "    in_feats = train_x.shape[1]\n",
        "    model = nn.Sequential(\n",
        "        nn.Linear(in_feats, 32),\n",
        "        nn.ReLU(),\n",
        "        nn.Dropout(0.2),\n",
        "        nn.Linear(32, 1))\n",
        "    optimizer = torch.optim.Adam(model.parameters())\n",
        "\n",
        "    lossf = Loss(train_y)\n",
        "\n",
        "    if val is not None:\n",
        "        val_x, val_y = val\n",
        "        lossf_val = Loss(val_y)\n",
        "\n",
        "    model.train()\n",
        "    model.to(DEVICE)\n",
        "\n",
        "    patience, cur_es = 3, 0\n",
        "    val_loss_old = np.Inf\n",
        "\n",
        "    for i in range(epochs):\n",
        "        out = model(train_x)\n",
        "        loss = lossf(out)\n",
        "        optimizer.zero_grad()\n",
        "        loss.backward()\n",
        "        optimizer.step()\n",
        "        if (i % 10) == 0:\n",
        "            if val is not None:\n",
        "                model.eval()\n",
        "                with torch.no_grad():\n",
        "                    loss_val = lossf_val(model(val_x))\n",
        "                if log: print(f'{i}. Train loss:', loss.detach().cpu().numpy(), ' |  Val Loss:', loss_val.detach().cpu().numpy())\n",
        "                model.train()\n",
        "\n",
        "                if val_loss_old < loss_val:\n",
        "                    cur_es += 1\n",
        "                else:\n",
        "                    cur_es = 0\n",
        "                val_loss_old = loss_val\n",
        "\n",
        "                if cur_es == patience:\n",
        "                    break\n",
        "\n",
        "    model.eval()\n",
        "    with torch.no_grad():\n",
        "        out = model(test_x).cpu()\n",
        "    probs = torch.sigmoid(out).numpy()\n",
        "\n",
        "    if return_val_probs:\n",
        "        with torch.no_grad():\n",
        "            out = model(val_x).cpu()\n",
        "        val_probs = torch.sigmoid(out).numpy()\n",
        "\n",
        "        return probs, val_probs\n",
        "\n",
        "    return probs"
      ]
    },
    {
      "cell_type": "markdown",
      "metadata": {
        "id": "11kiH2juqU-M"
      },
      "source": [
        "### Node2vec model"
      ]
    },
    {
      "cell_type": "code",
      "execution_count": null,
      "metadata": {
        "id": "eOqAt1Nua491"
      },
      "outputs": [],
      "source": [
        "from sklearn.svm import SVC\n",
        "from torch_geometric.nn.models import Node2Vec\n",
        "import torch.optim as optim\n",
        "import torch_cluster\n",
        "PARAMS = {\n",
        "    'embedding_dim': 128,\n",
        "    'walk_length': 64,\n",
        "    'context_size': 64,\n",
        "    'walks_per_node': 64,\n",
        "    'num_negative_samples': 1,\n",
        "}\n",
        "DEVICE = torch.device(\"cuda\" if torch.cuda.is_available() else \"cpu\")\n",
        "\n",
        "def train_epoch(n2v, n2v_loader, n2v_optimizer, X, train_y, train_mask, val_y, val_mask, test_mask, epochs=100, log=False):\n",
        "\n",
        "    X = X.to(DEVICE)\n",
        "    train_y = train_y.to(DEVICE)\n",
        "    val_y = val_y.to(DEVICE)\n",
        "    Z = None\n",
        "\n",
        "    n2v.train()\n",
        "    for i in range(epochs):\n",
        "        n2v_train_loss = 0\n",
        "\n",
        "        for (pos_rw, neg_rw) in n2v_loader:\n",
        "            n2v_optimizer.zero_grad()\n",
        "            loss = n2v.loss(pos_rw.to(DEVICE), neg_rw.to(DEVICE))\n",
        "            loss.backward()\n",
        "            n2v_optimizer.step()\n",
        "            n2v_train_loss += loss.data.item()\n",
        "        if log: print(f'Epoch {i}. N2V Train_Loss:', n2v_train_loss)\n",
        "    n2v.eval()\n",
        "    Z = n2v().detach()\n",
        "\n",
        "    if X is None:\n",
        "        train_x = Z[train_mask]\n",
        "        val_x = Z[val_mask]\n",
        "        test_x = Z[test_mask]\n",
        "    elif Z is not None:\n",
        "        train_x = torch.cat([Z[train_mask], X[train_mask]], dim=1)\n",
        "        val_x = torch.cat([Z[val_mask], X[val_mask]], dim=1)\n",
        "        test_x = torch.cat([Z[test_mask], X[test_mask]], dim=1)\n",
        "    else:\n",
        "        train_x = X[train_mask]\n",
        "        val_x = X[val_mask]\n",
        "        test_x = X[test_mask]\n",
        "    if log: print('train_X.shape', train_x.shape)\n",
        "\n",
        "    probs, val_probs = mlp_fit_predict(\n",
        "        train_x, train_y, test_x, val=(val_x, val_y), return_val_probs=True)\n",
        "    val_roc_auc = roc_auc_score(val_y.cpu().numpy(), val_probs)\n",
        "\n",
        "    if log: print('Validation ROC_AUC:', val_roc_auc)\n",
        "    return probs, val_roc_auc\n",
        "\n",
        "\n",
        "def n2v_fit_predict(edge_index, X, train_y, train_mask, val_y, val_mask, test_mask, epochs=100, log=False):\n",
        "    n2v = Node2Vec(edge_index, **PARAMS).to(DEVICE)\n",
        "    n2v_loader = n2v.loader(batch_size=128, shuffle=True, num_workers=0)\n",
        "    n2v_optimizer = optim.Adam(n2v.parameters(), lr=LR)\n",
        "\n",
        "    probs, val_roc_auc = train_epoch(\n",
        "        n2v, n2v_loader, n2v_optimizer, X, train_y, train_mask, val_y, val_mask, test_mask, epochs=epochs, log=log)\n",
        "\n",
        "    return probs\n"
      ]
    },
    {
      "cell_type": "markdown",
      "metadata": {
        "id": "L2bmY_k2KlE_"
      },
      "source": [
        "### Validate"
      ]
    },
    {
      "cell_type": "code",
      "execution_count": null,
      "metadata": {
        "id": "8bXIozL_bC_x"
      },
      "outputs": [],
      "source": [
        "from sklearn.model_selection import StratifiedKFold, KFold, train_test_split\n",
        "from tqdm import tqdm\n",
        "from sklearn.metrics import *\n",
        "\n",
        "set_seed(1)\n",
        "DEVICE = torch.device('cuda' if torch.cuda.is_available() else 'cpu')\n",
        "NFOLDS = 5\n",
        "LR = 1e-2\n",
        "WEIGHT_DECAY = 5e-4\n",
        "EPOCHS = 50\n",
        "\n",
        "X = torch.tensor(x.to_numpy(), dtype=torch.float)\n",
        "kf = KFold(n_splits=NFOLDS)\n",
        "cma = np.array([[0,0],[0,0]])\n",
        "columns_names = [\"Accuracy\",\"BA\", \"Sensitivity\", \"Specificity\",\"MCC\", 'CM']\n",
        "scores = pd.DataFrame(columns=columns_names)\n",
        "mm = np.array([], dtype=np.int)\n",
        "predictions = np.array([])\n",
        "for fold, (train_index, test_idx) in enumerate(tqdm(kf.split(np.arange(len(X))), total=kf.get_n_splits(), desc=f\"{NFOLDS}-fold\")):\n",
        "    train_idx, val_idx = train_test_split(train_index, test_size=0.05, stratify=y[train_index])\n",
        "    mm = np.concatenate((mm, test_idx))\n",
        "    train_y = torch.tensor(y[train_idx], dtype=torch.float)\n",
        "    val_y = torch.tensor(y[val_idx], dtype=torch.float)\n",
        "    test_y = torch.tensor(y[test_idx], dtype=torch.float).to(DEVICE)\n",
        "    train_x = torch.tensor(X[train_idx], dtype=torch.float).to(DEVICE)\n",
        "    val_x = torch.tensor(X[val_idx], dtype=torch.float).to(DEVICE)\n",
        "    test_x = torch.tensor(X[test_idx], dtype=torch.float).to(DEVICE)\n",
        "    probs = n2v_fit_predict(edges_index, X, train_y, train_idx, val_y, val_idx, test_idx, epochs=EPOCHS, log=False)\n",
        "    preds = (probs > 0.5) * 1\n",
        "    predictions = np.concatenate((predictions, preds.ravel()))\n",
        "    cm = confusion_matrix(test_y.cpu().numpy(),preds)\n",
        "    cma += cm\n",
        "    scores = scores.append(pd.DataFrame([[accuracy_score(test_y.cpu().numpy(), preds), balanced_accuracy_score(test_y.cpu().numpy(), preds), \n",
        "        cm[0,0]/(cm[0,0]+cm[0,1]), cm[1,1]/(cm[1,0]+cm[1,1]), \n",
        "        matthews_corrcoef(test_y.cpu().numpy(), preds), cm]], columns=columns_names, index=[fold]))\n",
        "df_scores = pd.DataFrame(scores.mean(axis=0)).T\n",
        "df_scores.index=[f'N2V']\n",
        "df_scores['CM'] = [cma]\n",
        "df_scores"
      ]
    },
    {
      "cell_type": "markdown",
      "metadata": {
        "id": "8TsJPJYWVKWo"
      },
      "source": [
        "# Print predictions"
      ]
    },
    {
      "cell_type": "code",
      "execution_count": null,
      "metadata": {
        "id": "t7Q2gF8t4p12"
      },
      "outputs": [],
      "source": [
        "p = np.zeros(len(y))\n",
        "p[mm] = predictions\n",
        "labels['predictions'] = ['NE' if x>0 else 'E' for x in p]\n",
        "labels"
      ]
    }
  ],
  "metadata": {
    "accelerator": "GPU",
    "colab": {
      "collapsed_sections": [],
      "name": "EssentialGenes_N2VMLP.ipynb",
      "provenance": [],
      "toc_visible": true
    },
    "interpreter": {
      "hash": "bc6e667b201477635ba32fc377e71e93fe0ce3fc2d2fb508931525558f52d375"
    },
    "kernelspec": {
      "display_name": "Python 3.8.3 ('base')",
      "language": "python",
      "name": "python3"
    },
    "language_info": {
      "codemirror_mode": {
        "name": "ipython",
        "version": 3
      },
      "file_extension": ".py",
      "mimetype": "text/x-python",
      "name": "python",
      "nbconvert_exporter": "python",
      "pygments_lexer": "ipython3",
      "version": "3.8.3"
    }
  },
  "nbformat": 4,
  "nbformat_minor": 0
}
